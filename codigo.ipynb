{
 "cells": [
  {
   "cell_type": "markdown",
   "metadata": {},
   "source": [
    "**Importacion de librerias**"
   ]
  },
  {
   "cell_type": "code",
   "execution_count": 1,
   "metadata": {},
   "outputs": [],
   "source": [
    "import pandas as pd\n",
    "import numpy as np\n",
    "import matplotlib.pyplot as mt\n",
    "from funpymodeling.exploratory import freq_tbl"
   ]
  },
  {
   "cell_type": "markdown",
   "metadata": {},
   "source": [
    "**Leer archivo csv**"
   ]
  },
  {
   "cell_type": "code",
   "execution_count": 2,
   "metadata": {},
   "outputs": [
    {
     "data": {
      "text/html": [
       "<div>\n",
       "<style scoped>\n",
       "    .dataframe tbody tr th:only-of-type {\n",
       "        vertical-align: middle;\n",
       "    }\n",
       "\n",
       "    .dataframe tbody tr th {\n",
       "        vertical-align: top;\n",
       "    }\n",
       "\n",
       "    .dataframe thead th {\n",
       "        text-align: right;\n",
       "    }\n",
       "</style>\n",
       "<table border=\"1\" class=\"dataframe\">\n",
       "  <thead>\n",
       "    <tr style=\"text-align: right;\">\n",
       "      <th></th>\n",
       "      <th>Unnamed: 0</th>\n",
       "      <th>last_scraped</th>\n",
       "      <th>name</th>\n",
       "      <th>description</th>\n",
       "      <th>neighborhood_overview</th>\n",
       "      <th>picture_url</th>\n",
       "      <th>host_name</th>\n",
       "      <th>host_since</th>\n",
       "      <th>host_about</th>\n",
       "      <th>host_response_time</th>\n",
       "      <th>...</th>\n",
       "      <th>number_of_reviews_ltm</th>\n",
       "      <th>number_of_reviews_l30d</th>\n",
       "      <th>review_scores_rating</th>\n",
       "      <th>review_scores_accuracy</th>\n",
       "      <th>review_scores_cleanliness</th>\n",
       "      <th>review_scores_checkin</th>\n",
       "      <th>review_scores_communication</th>\n",
       "      <th>review_scores_location</th>\n",
       "      <th>review_scores_value</th>\n",
       "      <th>reviews_per_month</th>\n",
       "    </tr>\n",
       "  </thead>\n",
       "  <tbody>\n",
       "    <tr>\n",
       "      <th>0</th>\n",
       "      <td>0</td>\n",
       "      <td>18/09/2024</td>\n",
       "      <td>130 sqm with a view on Mauer Park</td>\n",
       "      <td>An apartment of 130 sqm right in the heart of ...</td>\n",
       "      <td>Prenzlauer Berg is no doubt one of the most my...</td>\n",
       "      <td>https://a0.muscache.com/pictures/miso/Hosting-...</td>\n",
       "      <td>Marine</td>\n",
       "      <td>14/11/2009</td>\n",
       "      <td>I'm french but I have been living in Berlin si...</td>\n",
       "      <td>within an hour</td>\n",
       "      <td>...</td>\n",
       "      <td>15.0</td>\n",
       "      <td>0.0</td>\n",
       "      <td>4.93</td>\n",
       "      <td>4.95</td>\n",
       "      <td>4.90</td>\n",
       "      <td>4.97</td>\n",
       "      <td>4.94</td>\n",
       "      <td>4.82</td>\n",
       "      <td>4.76</td>\n",
       "      <td>0.80</td>\n",
       "    </tr>\n",
       "    <tr>\n",
       "      <th>1</th>\n",
       "      <td>1</td>\n",
       "      <td>18/09/2024</td>\n",
       "      <td>light quiet beautiful 4 room flat</td>\n",
       "      <td>We offer our 4 room apartment in Prenzlauer Be...</td>\n",
       "      <td>Prenzlauer Berg is no doubt one of the most my...</td>\n",
       "      <td>https://a0.muscache.com/pictures/caa048ba-e297...</td>\n",
       "      <td>Katja</td>\n",
       "      <td>08/11/2010</td>\n",
       "      <td>Designer who likes discovering the world</td>\n",
       "      <td>within a few hours</td>\n",
       "      <td>...</td>\n",
       "      <td>7.0</td>\n",
       "      <td>1.0</td>\n",
       "      <td>4.84</td>\n",
       "      <td>4.88</td>\n",
       "      <td>4.79</td>\n",
       "      <td>4.81</td>\n",
       "      <td>4.91</td>\n",
       "      <td>4.87</td>\n",
       "      <td>4.73</td>\n",
       "      <td>0.43</td>\n",
       "    </tr>\n",
       "    <tr>\n",
       "      <th>2</th>\n",
       "      <td>2</td>\n",
       "      <td>18/09/2024</td>\n",
       "      <td>Super Apartment in Berlin/Kreuzberg</td>\n",
       "      <td>Our fantastic typical Berlin-style apartment i...</td>\n",
       "      <td>Prenzlauer Berg is no doubt one of the most my...</td>\n",
       "      <td>https://a0.muscache.com/pictures/176e2964-5ead...</td>\n",
       "      <td>Guidi</td>\n",
       "      <td>08/09/2010</td>\n",
       "      <td>Hi , I am Elena and I am looking forward to ho...</td>\n",
       "      <td>within a few hours</td>\n",
       "      <td>...</td>\n",
       "      <td>4.0</td>\n",
       "      <td>0.0</td>\n",
       "      <td>4.70</td>\n",
       "      <td>4.68</td>\n",
       "      <td>4.65</td>\n",
       "      <td>4.82</td>\n",
       "      <td>4.82</td>\n",
       "      <td>4.94</td>\n",
       "      <td>4.47</td>\n",
       "      <td>0.20</td>\n",
       "    </tr>\n",
       "    <tr>\n",
       "      <th>3</th>\n",
       "      <td>3</td>\n",
       "      <td>18/09/2024</td>\n",
       "      <td>Rooftop apt w/ a view, 2 bedrooms/bathrooms, s...</td>\n",
       "      <td>I am renting out my spacious, bright rooftop a...</td>\n",
       "      <td>Kastanienalle, Oderberger Strasse, Hackescher ...</td>\n",
       "      <td>https://a0.muscache.com/pictures/1135114/9db3c...</td>\n",
       "      <td>Stephan</td>\n",
       "      <td>08/12/2010</td>\n",
       "      <td>Ich mag sch‚Äö√†√∂‚Äö√†√áne Dinge und Design. ...</td>\n",
       "      <td>within a day</td>\n",
       "      <td>...</td>\n",
       "      <td>0.0</td>\n",
       "      <td>0.0</td>\n",
       "      <td>4.75</td>\n",
       "      <td>4.63</td>\n",
       "      <td>4.50</td>\n",
       "      <td>4.94</td>\n",
       "      <td>4.63</td>\n",
       "      <td>4.88</td>\n",
       "      <td>4.40</td>\n",
       "      <td>0.10</td>\n",
       "    </tr>\n",
       "    <tr>\n",
       "      <th>4</th>\n",
       "      <td>4</td>\n",
       "      <td>18/09/2024</td>\n",
       "      <td>Room w/ balcony and private bathroom in nice area</td>\n",
       "      <td>I¬¨¬®¬¨‚Ä¢m offering a guest room with balcony...</td>\n",
       "      <td>The neighborhood \"Prenzlauer Berg\" is centrall...</td>\n",
       "      <td>https://a0.muscache.com/pictures/miso/Hosting-...</td>\n",
       "      <td>Christian</td>\n",
       "      <td>07/12/2010</td>\n",
       "      <td>Christian from Berlin\\n\\nHi, I¬¨¬®¬¨‚Ä¢m a 52 ...</td>\n",
       "      <td>within a few hours</td>\n",
       "      <td>...</td>\n",
       "      <td>22.0</td>\n",
       "      <td>0.3</td>\n",
       "      <td>4.95</td>\n",
       "      <td>4.95</td>\n",
       "      <td>4.92</td>\n",
       "      <td>4.95</td>\n",
       "      <td>4.92</td>\n",
       "      <td>4.84</td>\n",
       "      <td>4.77</td>\n",
       "      <td>0.73</td>\n",
       "    </tr>\n",
       "    <tr>\n",
       "      <th>...</th>\n",
       "      <td>...</td>\n",
       "      <td>...</td>\n",
       "      <td>...</td>\n",
       "      <td>...</td>\n",
       "      <td>...</td>\n",
       "      <td>...</td>\n",
       "      <td>...</td>\n",
       "      <td>...</td>\n",
       "      <td>...</td>\n",
       "      <td>...</td>\n",
       "      <td>...</td>\n",
       "      <td>...</td>\n",
       "      <td>...</td>\n",
       "      <td>...</td>\n",
       "      <td>...</td>\n",
       "      <td>...</td>\n",
       "      <td>...</td>\n",
       "      <td>...</td>\n",
       "      <td>...</td>\n",
       "      <td>...</td>\n",
       "      <td>...</td>\n",
       "    </tr>\n",
       "    <tr>\n",
       "      <th>11522</th>\n",
       "      <td>11522</td>\n",
       "      <td>18/09/2024</td>\n",
       "      <td>Studio 40</td>\n",
       "      <td>This modern flat is located in the new Carlott...</td>\n",
       "      <td>Charlottenburg in the western part of Berlin, ...</td>\n",
       "      <td>https://a0.muscache.com/pictures/miso/Hosting-...</td>\n",
       "      <td>Carlotta Apartments</td>\n",
       "      <td>24/10/2023</td>\n",
       "      <td>\"If you think you can do a thing or think you ...</td>\n",
       "      <td>within an hour</td>\n",
       "      <td>...</td>\n",
       "      <td>11.0</td>\n",
       "      <td>2.0</td>\n",
       "      <td>5.00</td>\n",
       "      <td>5.00</td>\n",
       "      <td>4.91</td>\n",
       "      <td>4.82</td>\n",
       "      <td>5.00</td>\n",
       "      <td>5.00</td>\n",
       "      <td>4.45</td>\n",
       "      <td>1.21</td>\n",
       "    </tr>\n",
       "    <tr>\n",
       "      <th>11523</th>\n",
       "      <td>11523</td>\n",
       "      <td>18/09/2024</td>\n",
       "      <td>Garden Loft 80</td>\n",
       "      <td>This modern apartment is located in the new Ca...</td>\n",
       "      <td>Charlottenburg in the western part of Berlin, ...</td>\n",
       "      <td>https://a0.muscache.com/pictures/miso/Hosting-...</td>\n",
       "      <td>Carlotta Apartments</td>\n",
       "      <td>24/10/2023</td>\n",
       "      <td>\"If you think you can do a thing or think you ...</td>\n",
       "      <td>within an hour</td>\n",
       "      <td>...</td>\n",
       "      <td>6.0</td>\n",
       "      <td>0.0</td>\n",
       "      <td>4.83</td>\n",
       "      <td>5.00</td>\n",
       "      <td>5.00</td>\n",
       "      <td>4.83</td>\n",
       "      <td>5.00</td>\n",
       "      <td>4.83</td>\n",
       "      <td>4.67</td>\n",
       "      <td>0.65</td>\n",
       "    </tr>\n",
       "    <tr>\n",
       "      <th>11524</th>\n",
       "      <td>11524</td>\n",
       "      <td>18/09/2024</td>\n",
       "      <td>Extended Garden Loft 107</td>\n",
       "      <td>This modern flat is located in the new Carlott...</td>\n",
       "      <td>Charlottenburg in the western part of Berlin, ...</td>\n",
       "      <td>https://a0.muscache.com/pictures/miso/Hosting-...</td>\n",
       "      <td>Carlotta Apartments</td>\n",
       "      <td>24/10/2023</td>\n",
       "      <td>\"If you think you can do a thing or think you ...</td>\n",
       "      <td>within an hour</td>\n",
       "      <td>...</td>\n",
       "      <td>6.0</td>\n",
       "      <td>1.0</td>\n",
       "      <td>5.00</td>\n",
       "      <td>5.00</td>\n",
       "      <td>5.00</td>\n",
       "      <td>5.00</td>\n",
       "      <td>5.00</td>\n",
       "      <td>4.83</td>\n",
       "      <td>4.50</td>\n",
       "      <td>1.84</td>\n",
       "    </tr>\n",
       "    <tr>\n",
       "      <th>11525</th>\n",
       "      <td>11525</td>\n",
       "      <td>18/09/2024</td>\n",
       "      <td>Garden Loft 115</td>\n",
       "      <td>This modern apartment is located in the new Ca...</td>\n",
       "      <td>Charlottenburg in the western part of Berlin, ...</td>\n",
       "      <td>https://a0.muscache.com/pictures/miso/Hosting-...</td>\n",
       "      <td>Carlotta Apartments</td>\n",
       "      <td>24/10/2023</td>\n",
       "      <td>\"If you think you can do a thing or think you ...</td>\n",
       "      <td>within an hour</td>\n",
       "      <td>...</td>\n",
       "      <td>3.0</td>\n",
       "      <td>0.0</td>\n",
       "      <td>4.67</td>\n",
       "      <td>4.67</td>\n",
       "      <td>5.00</td>\n",
       "      <td>5.00</td>\n",
       "      <td>5.00</td>\n",
       "      <td>4.80</td>\n",
       "      <td>4.33</td>\n",
       "      <td>0.94</td>\n",
       "    </tr>\n",
       "    <tr>\n",
       "      <th>11526</th>\n",
       "      <td>11526</td>\n",
       "      <td>18/09/2024</td>\n",
       "      <td>Extended Garden Loft 139</td>\n",
       "      <td>This modern flat is located in the new Carlott...</td>\n",
       "      <td>Charlottenburg in the western part of Berlin, ...</td>\n",
       "      <td>https://a0.muscache.com/pictures/miso/Hosting-...</td>\n",
       "      <td>Carlotta Apartments</td>\n",
       "      <td>24/10/2023</td>\n",
       "      <td>\"If you think you can do a thing or think you ...</td>\n",
       "      <td>within an hour</td>\n",
       "      <td>...</td>\n",
       "      <td>3.7</td>\n",
       "      <td>0.3</td>\n",
       "      <td>4.97</td>\n",
       "      <td>4.97</td>\n",
       "      <td>5.00</td>\n",
       "      <td>4.94</td>\n",
       "      <td>4.97</td>\n",
       "      <td>4.85</td>\n",
       "      <td>4.85</td>\n",
       "      <td>0.50</td>\n",
       "    </tr>\n",
       "  </tbody>\n",
       "</table>\n",
       "<p>11527 rows × 51 columns</p>\n",
       "</div>"
      ],
      "text/plain": [
       "       Unnamed: 0 last_scraped  \\\n",
       "0               0   18/09/2024   \n",
       "1               1   18/09/2024   \n",
       "2               2   18/09/2024   \n",
       "3               3   18/09/2024   \n",
       "4               4   18/09/2024   \n",
       "...           ...          ...   \n",
       "11522       11522   18/09/2024   \n",
       "11523       11523   18/09/2024   \n",
       "11524       11524   18/09/2024   \n",
       "11525       11525   18/09/2024   \n",
       "11526       11526   18/09/2024   \n",
       "\n",
       "                                                    name  \\\n",
       "0                      130 sqm with a view on Mauer Park   \n",
       "1                      light quiet beautiful 4 room flat   \n",
       "2                    Super Apartment in Berlin/Kreuzberg   \n",
       "3      Rooftop apt w/ a view, 2 bedrooms/bathrooms, s...   \n",
       "4      Room w/ balcony and private bathroom in nice area   \n",
       "...                                                  ...   \n",
       "11522                                          Studio 40   \n",
       "11523                                     Garden Loft 80   \n",
       "11524                           Extended Garden Loft 107   \n",
       "11525                                    Garden Loft 115   \n",
       "11526                           Extended Garden Loft 139   \n",
       "\n",
       "                                             description  \\\n",
       "0      An apartment of 130 sqm right in the heart of ...   \n",
       "1      We offer our 4 room apartment in Prenzlauer Be...   \n",
       "2      Our fantastic typical Berlin-style apartment i...   \n",
       "3      I am renting out my spacious, bright rooftop a...   \n",
       "4      I¬¨¬®¬¨‚Ä¢m offering a guest room with balcony...   \n",
       "...                                                  ...   \n",
       "11522  This modern flat is located in the new Carlott...   \n",
       "11523  This modern apartment is located in the new Ca...   \n",
       "11524  This modern flat is located in the new Carlott...   \n",
       "11525  This modern apartment is located in the new Ca...   \n",
       "11526  This modern flat is located in the new Carlott...   \n",
       "\n",
       "                                   neighborhood_overview  \\\n",
       "0      Prenzlauer Berg is no doubt one of the most my...   \n",
       "1      Prenzlauer Berg is no doubt one of the most my...   \n",
       "2      Prenzlauer Berg is no doubt one of the most my...   \n",
       "3      Kastanienalle, Oderberger Strasse, Hackescher ...   \n",
       "4      The neighborhood \"Prenzlauer Berg\" is centrall...   \n",
       "...                                                  ...   \n",
       "11522  Charlottenburg in the western part of Berlin, ...   \n",
       "11523  Charlottenburg in the western part of Berlin, ...   \n",
       "11524  Charlottenburg in the western part of Berlin, ...   \n",
       "11525  Charlottenburg in the western part of Berlin, ...   \n",
       "11526  Charlottenburg in the western part of Berlin, ...   \n",
       "\n",
       "                                             picture_url            host_name  \\\n",
       "0      https://a0.muscache.com/pictures/miso/Hosting-...               Marine   \n",
       "1      https://a0.muscache.com/pictures/caa048ba-e297...                Katja   \n",
       "2      https://a0.muscache.com/pictures/176e2964-5ead...                Guidi   \n",
       "3      https://a0.muscache.com/pictures/1135114/9db3c...              Stephan   \n",
       "4      https://a0.muscache.com/pictures/miso/Hosting-...            Christian   \n",
       "...                                                  ...                  ...   \n",
       "11522  https://a0.muscache.com/pictures/miso/Hosting-...  Carlotta Apartments   \n",
       "11523  https://a0.muscache.com/pictures/miso/Hosting-...  Carlotta Apartments   \n",
       "11524  https://a0.muscache.com/pictures/miso/Hosting-...  Carlotta Apartments   \n",
       "11525  https://a0.muscache.com/pictures/miso/Hosting-...  Carlotta Apartments   \n",
       "11526  https://a0.muscache.com/pictures/miso/Hosting-...  Carlotta Apartments   \n",
       "\n",
       "       host_since                                         host_about  \\\n",
       "0      14/11/2009  I'm french but I have been living in Berlin si...   \n",
       "1      08/11/2010           Designer who likes discovering the world   \n",
       "2      08/09/2010  Hi , I am Elena and I am looking forward to ho...   \n",
       "3      08/12/2010  Ich mag sch‚Äö√†√∂‚Äö√†√áne Dinge und Design. ...   \n",
       "4      07/12/2010  Christian from Berlin\\n\\nHi, I¬¨¬®¬¨‚Ä¢m a 52 ...   \n",
       "...           ...                                                ...   \n",
       "11522  24/10/2023  \"If you think you can do a thing or think you ...   \n",
       "11523  24/10/2023  \"If you think you can do a thing or think you ...   \n",
       "11524  24/10/2023  \"If you think you can do a thing or think you ...   \n",
       "11525  24/10/2023  \"If you think you can do a thing or think you ...   \n",
       "11526  24/10/2023  \"If you think you can do a thing or think you ...   \n",
       "\n",
       "       host_response_time  ... number_of_reviews_ltm number_of_reviews_l30d  \\\n",
       "0          within an hour  ...                  15.0                    0.0   \n",
       "1      within a few hours  ...                   7.0                    1.0   \n",
       "2      within a few hours  ...                   4.0                    0.0   \n",
       "3            within a day  ...                   0.0                    0.0   \n",
       "4      within a few hours  ...                  22.0                    0.3   \n",
       "...                   ...  ...                   ...                    ...   \n",
       "11522      within an hour  ...                  11.0                    2.0   \n",
       "11523      within an hour  ...                   6.0                    0.0   \n",
       "11524      within an hour  ...                   6.0                    1.0   \n",
       "11525      within an hour  ...                   3.0                    0.0   \n",
       "11526      within an hour  ...                   3.7                    0.3   \n",
       "\n",
       "      review_scores_rating review_scores_accuracy review_scores_cleanliness  \\\n",
       "0                     4.93                   4.95                      4.90   \n",
       "1                     4.84                   4.88                      4.79   \n",
       "2                     4.70                   4.68                      4.65   \n",
       "3                     4.75                   4.63                      4.50   \n",
       "4                     4.95                   4.95                      4.92   \n",
       "...                    ...                    ...                       ...   \n",
       "11522                 5.00                   5.00                      4.91   \n",
       "11523                 4.83                   5.00                      5.00   \n",
       "11524                 5.00                   5.00                      5.00   \n",
       "11525                 4.67                   4.67                      5.00   \n",
       "11526                 4.97                   4.97                      5.00   \n",
       "\n",
       "      review_scores_checkin review_scores_communication  \\\n",
       "0                      4.97                        4.94   \n",
       "1                      4.81                        4.91   \n",
       "2                      4.82                        4.82   \n",
       "3                      4.94                        4.63   \n",
       "4                      4.95                        4.92   \n",
       "...                     ...                         ...   \n",
       "11522                  4.82                        5.00   \n",
       "11523                  4.83                        5.00   \n",
       "11524                  5.00                        5.00   \n",
       "11525                  5.00                        5.00   \n",
       "11526                  4.94                        4.97   \n",
       "\n",
       "      review_scores_location review_scores_value reviews_per_month  \n",
       "0                       4.82                4.76              0.80  \n",
       "1                       4.87                4.73              0.43  \n",
       "2                       4.94                4.47              0.20  \n",
       "3                       4.88                4.40              0.10  \n",
       "4                       4.84                4.77              0.73  \n",
       "...                      ...                 ...               ...  \n",
       "11522                   5.00                4.45              1.21  \n",
       "11523                   4.83                4.67              0.65  \n",
       "11524                   4.83                4.50              1.84  \n",
       "11525                   4.80                4.33              0.94  \n",
       "11526                   4.85                4.85              0.50  \n",
       "\n",
       "[11527 rows x 51 columns]"
      ]
     },
     "execution_count": 2,
     "metadata": {},
     "output_type": "execute_result"
    }
   ],
   "source": [
    "df_berlin = pd.read_csv(\"Datos_limpios_Berlin.csv\", encoding=\"MacRoman\")\n",
    "df_berlin"
   ]
  },
  {
   "cell_type": "code",
   "execution_count": 3,
   "metadata": {},
   "outputs": [
    {
     "data": {
      "text/html": [
       "<div>\n",
       "<style scoped>\n",
       "    .dataframe tbody tr th:only-of-type {\n",
       "        vertical-align: middle;\n",
       "    }\n",
       "\n",
       "    .dataframe tbody tr th {\n",
       "        vertical-align: top;\n",
       "    }\n",
       "\n",
       "    .dataframe thead th {\n",
       "        text-align: right;\n",
       "    }\n",
       "</style>\n",
       "<table border=\"1\" class=\"dataframe\">\n",
       "  <thead>\n",
       "    <tr style=\"text-align: right;\">\n",
       "      <th></th>\n",
       "      <th>last_scraped</th>\n",
       "      <th>name</th>\n",
       "      <th>description</th>\n",
       "      <th>neighborhood_overview</th>\n",
       "      <th>picture_url</th>\n",
       "      <th>host_name</th>\n",
       "      <th>host_since</th>\n",
       "      <th>host_about</th>\n",
       "      <th>host_response_time</th>\n",
       "      <th>host_is_superhost</th>\n",
       "      <th>...</th>\n",
       "      <th>number_of_reviews_ltm</th>\n",
       "      <th>number_of_reviews_l30d</th>\n",
       "      <th>review_scores_rating</th>\n",
       "      <th>review_scores_accuracy</th>\n",
       "      <th>review_scores_cleanliness</th>\n",
       "      <th>review_scores_checkin</th>\n",
       "      <th>review_scores_communication</th>\n",
       "      <th>review_scores_location</th>\n",
       "      <th>review_scores_value</th>\n",
       "      <th>reviews_per_month</th>\n",
       "    </tr>\n",
       "  </thead>\n",
       "  <tbody>\n",
       "    <tr>\n",
       "      <th>0</th>\n",
       "      <td>18/09/2024</td>\n",
       "      <td>130 sqm with a view on Mauer Park</td>\n",
       "      <td>An apartment of 130 sqm right in the heart of ...</td>\n",
       "      <td>Prenzlauer Berg is no doubt one of the most my...</td>\n",
       "      <td>https://a0.muscache.com/pictures/miso/Hosting-...</td>\n",
       "      <td>Marine</td>\n",
       "      <td>14/11/2009</td>\n",
       "      <td>I'm french but I have been living in Berlin si...</td>\n",
       "      <td>within an hour</td>\n",
       "      <td>t</td>\n",
       "      <td>...</td>\n",
       "      <td>15.0</td>\n",
       "      <td>0.0</td>\n",
       "      <td>4.93</td>\n",
       "      <td>4.95</td>\n",
       "      <td>4.90</td>\n",
       "      <td>4.97</td>\n",
       "      <td>4.94</td>\n",
       "      <td>4.82</td>\n",
       "      <td>4.76</td>\n",
       "      <td>0.80</td>\n",
       "    </tr>\n",
       "    <tr>\n",
       "      <th>1</th>\n",
       "      <td>18/09/2024</td>\n",
       "      <td>light quiet beautiful 4 room flat</td>\n",
       "      <td>We offer our 4 room apartment in Prenzlauer Be...</td>\n",
       "      <td>Prenzlauer Berg is no doubt one of the most my...</td>\n",
       "      <td>https://a0.muscache.com/pictures/caa048ba-e297...</td>\n",
       "      <td>Katja</td>\n",
       "      <td>08/11/2010</td>\n",
       "      <td>Designer who likes discovering the world</td>\n",
       "      <td>within a few hours</td>\n",
       "      <td>t</td>\n",
       "      <td>...</td>\n",
       "      <td>7.0</td>\n",
       "      <td>1.0</td>\n",
       "      <td>4.84</td>\n",
       "      <td>4.88</td>\n",
       "      <td>4.79</td>\n",
       "      <td>4.81</td>\n",
       "      <td>4.91</td>\n",
       "      <td>4.87</td>\n",
       "      <td>4.73</td>\n",
       "      <td>0.43</td>\n",
       "    </tr>\n",
       "    <tr>\n",
       "      <th>2</th>\n",
       "      <td>18/09/2024</td>\n",
       "      <td>Super Apartment in Berlin/Kreuzberg</td>\n",
       "      <td>Our fantastic typical Berlin-style apartment i...</td>\n",
       "      <td>Prenzlauer Berg is no doubt one of the most my...</td>\n",
       "      <td>https://a0.muscache.com/pictures/176e2964-5ead...</td>\n",
       "      <td>Guidi</td>\n",
       "      <td>08/09/2010</td>\n",
       "      <td>Hi , I am Elena and I am looking forward to ho...</td>\n",
       "      <td>within a few hours</td>\n",
       "      <td>f</td>\n",
       "      <td>...</td>\n",
       "      <td>4.0</td>\n",
       "      <td>0.0</td>\n",
       "      <td>4.70</td>\n",
       "      <td>4.68</td>\n",
       "      <td>4.65</td>\n",
       "      <td>4.82</td>\n",
       "      <td>4.82</td>\n",
       "      <td>4.94</td>\n",
       "      <td>4.47</td>\n",
       "      <td>0.20</td>\n",
       "    </tr>\n",
       "    <tr>\n",
       "      <th>3</th>\n",
       "      <td>18/09/2024</td>\n",
       "      <td>Rooftop apt w/ a view, 2 bedrooms/bathrooms, s...</td>\n",
       "      <td>I am renting out my spacious, bright rooftop a...</td>\n",
       "      <td>Kastanienalle, Oderberger Strasse, Hackescher ...</td>\n",
       "      <td>https://a0.muscache.com/pictures/1135114/9db3c...</td>\n",
       "      <td>Stephan</td>\n",
       "      <td>08/12/2010</td>\n",
       "      <td>Ich mag sch‚Äö√†√∂‚Äö√†√áne Dinge und Design. ...</td>\n",
       "      <td>within a day</td>\n",
       "      <td>f</td>\n",
       "      <td>...</td>\n",
       "      <td>0.0</td>\n",
       "      <td>0.0</td>\n",
       "      <td>4.75</td>\n",
       "      <td>4.63</td>\n",
       "      <td>4.50</td>\n",
       "      <td>4.94</td>\n",
       "      <td>4.63</td>\n",
       "      <td>4.88</td>\n",
       "      <td>4.40</td>\n",
       "      <td>0.10</td>\n",
       "    </tr>\n",
       "    <tr>\n",
       "      <th>4</th>\n",
       "      <td>18/09/2024</td>\n",
       "      <td>Room w/ balcony and private bathroom in nice area</td>\n",
       "      <td>I¬¨¬®¬¨‚Ä¢m offering a guest room with balcony...</td>\n",
       "      <td>The neighborhood \"Prenzlauer Berg\" is centrall...</td>\n",
       "      <td>https://a0.muscache.com/pictures/miso/Hosting-...</td>\n",
       "      <td>Christian</td>\n",
       "      <td>07/12/2010</td>\n",
       "      <td>Christian from Berlin\\n\\nHi, I¬¨¬®¬¨‚Ä¢m a 52 ...</td>\n",
       "      <td>within a few hours</td>\n",
       "      <td>t</td>\n",
       "      <td>...</td>\n",
       "      <td>22.0</td>\n",
       "      <td>0.3</td>\n",
       "      <td>4.95</td>\n",
       "      <td>4.95</td>\n",
       "      <td>4.92</td>\n",
       "      <td>4.95</td>\n",
       "      <td>4.92</td>\n",
       "      <td>4.84</td>\n",
       "      <td>4.77</td>\n",
       "      <td>0.73</td>\n",
       "    </tr>\n",
       "    <tr>\n",
       "      <th>...</th>\n",
       "      <td>...</td>\n",
       "      <td>...</td>\n",
       "      <td>...</td>\n",
       "      <td>...</td>\n",
       "      <td>...</td>\n",
       "      <td>...</td>\n",
       "      <td>...</td>\n",
       "      <td>...</td>\n",
       "      <td>...</td>\n",
       "      <td>...</td>\n",
       "      <td>...</td>\n",
       "      <td>...</td>\n",
       "      <td>...</td>\n",
       "      <td>...</td>\n",
       "      <td>...</td>\n",
       "      <td>...</td>\n",
       "      <td>...</td>\n",
       "      <td>...</td>\n",
       "      <td>...</td>\n",
       "      <td>...</td>\n",
       "      <td>...</td>\n",
       "    </tr>\n",
       "    <tr>\n",
       "      <th>11522</th>\n",
       "      <td>18/09/2024</td>\n",
       "      <td>Studio 40</td>\n",
       "      <td>This modern flat is located in the new Carlott...</td>\n",
       "      <td>Charlottenburg in the western part of Berlin, ...</td>\n",
       "      <td>https://a0.muscache.com/pictures/miso/Hosting-...</td>\n",
       "      <td>Carlotta Apartments</td>\n",
       "      <td>24/10/2023</td>\n",
       "      <td>\"If you think you can do a thing or think you ...</td>\n",
       "      <td>within an hour</td>\n",
       "      <td>t</td>\n",
       "      <td>...</td>\n",
       "      <td>11.0</td>\n",
       "      <td>2.0</td>\n",
       "      <td>5.00</td>\n",
       "      <td>5.00</td>\n",
       "      <td>4.91</td>\n",
       "      <td>4.82</td>\n",
       "      <td>5.00</td>\n",
       "      <td>5.00</td>\n",
       "      <td>4.45</td>\n",
       "      <td>1.21</td>\n",
       "    </tr>\n",
       "    <tr>\n",
       "      <th>11523</th>\n",
       "      <td>18/09/2024</td>\n",
       "      <td>Garden Loft 80</td>\n",
       "      <td>This modern apartment is located in the new Ca...</td>\n",
       "      <td>Charlottenburg in the western part of Berlin, ...</td>\n",
       "      <td>https://a0.muscache.com/pictures/miso/Hosting-...</td>\n",
       "      <td>Carlotta Apartments</td>\n",
       "      <td>24/10/2023</td>\n",
       "      <td>\"If you think you can do a thing or think you ...</td>\n",
       "      <td>within an hour</td>\n",
       "      <td>t</td>\n",
       "      <td>...</td>\n",
       "      <td>6.0</td>\n",
       "      <td>0.0</td>\n",
       "      <td>4.83</td>\n",
       "      <td>5.00</td>\n",
       "      <td>5.00</td>\n",
       "      <td>4.83</td>\n",
       "      <td>5.00</td>\n",
       "      <td>4.83</td>\n",
       "      <td>4.67</td>\n",
       "      <td>0.65</td>\n",
       "    </tr>\n",
       "    <tr>\n",
       "      <th>11524</th>\n",
       "      <td>18/09/2024</td>\n",
       "      <td>Extended Garden Loft 107</td>\n",
       "      <td>This modern flat is located in the new Carlott...</td>\n",
       "      <td>Charlottenburg in the western part of Berlin, ...</td>\n",
       "      <td>https://a0.muscache.com/pictures/miso/Hosting-...</td>\n",
       "      <td>Carlotta Apartments</td>\n",
       "      <td>24/10/2023</td>\n",
       "      <td>\"If you think you can do a thing or think you ...</td>\n",
       "      <td>within an hour</td>\n",
       "      <td>t</td>\n",
       "      <td>...</td>\n",
       "      <td>6.0</td>\n",
       "      <td>1.0</td>\n",
       "      <td>5.00</td>\n",
       "      <td>5.00</td>\n",
       "      <td>5.00</td>\n",
       "      <td>5.00</td>\n",
       "      <td>5.00</td>\n",
       "      <td>4.83</td>\n",
       "      <td>4.50</td>\n",
       "      <td>1.84</td>\n",
       "    </tr>\n",
       "    <tr>\n",
       "      <th>11525</th>\n",
       "      <td>18/09/2024</td>\n",
       "      <td>Garden Loft 115</td>\n",
       "      <td>This modern apartment is located in the new Ca...</td>\n",
       "      <td>Charlottenburg in the western part of Berlin, ...</td>\n",
       "      <td>https://a0.muscache.com/pictures/miso/Hosting-...</td>\n",
       "      <td>Carlotta Apartments</td>\n",
       "      <td>24/10/2023</td>\n",
       "      <td>\"If you think you can do a thing or think you ...</td>\n",
       "      <td>within an hour</td>\n",
       "      <td>t</td>\n",
       "      <td>...</td>\n",
       "      <td>3.0</td>\n",
       "      <td>0.0</td>\n",
       "      <td>4.67</td>\n",
       "      <td>4.67</td>\n",
       "      <td>5.00</td>\n",
       "      <td>5.00</td>\n",
       "      <td>5.00</td>\n",
       "      <td>4.80</td>\n",
       "      <td>4.33</td>\n",
       "      <td>0.94</td>\n",
       "    </tr>\n",
       "    <tr>\n",
       "      <th>11526</th>\n",
       "      <td>18/09/2024</td>\n",
       "      <td>Extended Garden Loft 139</td>\n",
       "      <td>This modern flat is located in the new Carlott...</td>\n",
       "      <td>Charlottenburg in the western part of Berlin, ...</td>\n",
       "      <td>https://a0.muscache.com/pictures/miso/Hosting-...</td>\n",
       "      <td>Carlotta Apartments</td>\n",
       "      <td>24/10/2023</td>\n",
       "      <td>\"If you think you can do a thing or think you ...</td>\n",
       "      <td>within an hour</td>\n",
       "      <td>t</td>\n",
       "      <td>...</td>\n",
       "      <td>3.7</td>\n",
       "      <td>0.3</td>\n",
       "      <td>4.97</td>\n",
       "      <td>4.97</td>\n",
       "      <td>5.00</td>\n",
       "      <td>4.94</td>\n",
       "      <td>4.97</td>\n",
       "      <td>4.85</td>\n",
       "      <td>4.85</td>\n",
       "      <td>0.50</td>\n",
       "    </tr>\n",
       "  </tbody>\n",
       "</table>\n",
       "<p>11527 rows × 50 columns</p>\n",
       "</div>"
      ],
      "text/plain": [
       "      last_scraped                                               name  \\\n",
       "0       18/09/2024                  130 sqm with a view on Mauer Park   \n",
       "1       18/09/2024                  light quiet beautiful 4 room flat   \n",
       "2       18/09/2024                Super Apartment in Berlin/Kreuzberg   \n",
       "3       18/09/2024  Rooftop apt w/ a view, 2 bedrooms/bathrooms, s...   \n",
       "4       18/09/2024  Room w/ balcony and private bathroom in nice area   \n",
       "...            ...                                                ...   \n",
       "11522   18/09/2024                                          Studio 40   \n",
       "11523   18/09/2024                                     Garden Loft 80   \n",
       "11524   18/09/2024                           Extended Garden Loft 107   \n",
       "11525   18/09/2024                                    Garden Loft 115   \n",
       "11526   18/09/2024                           Extended Garden Loft 139   \n",
       "\n",
       "                                             description  \\\n",
       "0      An apartment of 130 sqm right in the heart of ...   \n",
       "1      We offer our 4 room apartment in Prenzlauer Be...   \n",
       "2      Our fantastic typical Berlin-style apartment i...   \n",
       "3      I am renting out my spacious, bright rooftop a...   \n",
       "4      I¬¨¬®¬¨‚Ä¢m offering a guest room with balcony...   \n",
       "...                                                  ...   \n",
       "11522  This modern flat is located in the new Carlott...   \n",
       "11523  This modern apartment is located in the new Ca...   \n",
       "11524  This modern flat is located in the new Carlott...   \n",
       "11525  This modern apartment is located in the new Ca...   \n",
       "11526  This modern flat is located in the new Carlott...   \n",
       "\n",
       "                                   neighborhood_overview  \\\n",
       "0      Prenzlauer Berg is no doubt one of the most my...   \n",
       "1      Prenzlauer Berg is no doubt one of the most my...   \n",
       "2      Prenzlauer Berg is no doubt one of the most my...   \n",
       "3      Kastanienalle, Oderberger Strasse, Hackescher ...   \n",
       "4      The neighborhood \"Prenzlauer Berg\" is centrall...   \n",
       "...                                                  ...   \n",
       "11522  Charlottenburg in the western part of Berlin, ...   \n",
       "11523  Charlottenburg in the western part of Berlin, ...   \n",
       "11524  Charlottenburg in the western part of Berlin, ...   \n",
       "11525  Charlottenburg in the western part of Berlin, ...   \n",
       "11526  Charlottenburg in the western part of Berlin, ...   \n",
       "\n",
       "                                             picture_url            host_name  \\\n",
       "0      https://a0.muscache.com/pictures/miso/Hosting-...               Marine   \n",
       "1      https://a0.muscache.com/pictures/caa048ba-e297...                Katja   \n",
       "2      https://a0.muscache.com/pictures/176e2964-5ead...                Guidi   \n",
       "3      https://a0.muscache.com/pictures/1135114/9db3c...              Stephan   \n",
       "4      https://a0.muscache.com/pictures/miso/Hosting-...            Christian   \n",
       "...                                                  ...                  ...   \n",
       "11522  https://a0.muscache.com/pictures/miso/Hosting-...  Carlotta Apartments   \n",
       "11523  https://a0.muscache.com/pictures/miso/Hosting-...  Carlotta Apartments   \n",
       "11524  https://a0.muscache.com/pictures/miso/Hosting-...  Carlotta Apartments   \n",
       "11525  https://a0.muscache.com/pictures/miso/Hosting-...  Carlotta Apartments   \n",
       "11526  https://a0.muscache.com/pictures/miso/Hosting-...  Carlotta Apartments   \n",
       "\n",
       "       host_since                                         host_about  \\\n",
       "0      14/11/2009  I'm french but I have been living in Berlin si...   \n",
       "1      08/11/2010           Designer who likes discovering the world   \n",
       "2      08/09/2010  Hi , I am Elena and I am looking forward to ho...   \n",
       "3      08/12/2010  Ich mag sch‚Äö√†√∂‚Äö√†√áne Dinge und Design. ...   \n",
       "4      07/12/2010  Christian from Berlin\\n\\nHi, I¬¨¬®¬¨‚Ä¢m a 52 ...   \n",
       "...           ...                                                ...   \n",
       "11522  24/10/2023  \"If you think you can do a thing or think you ...   \n",
       "11523  24/10/2023  \"If you think you can do a thing or think you ...   \n",
       "11524  24/10/2023  \"If you think you can do a thing or think you ...   \n",
       "11525  24/10/2023  \"If you think you can do a thing or think you ...   \n",
       "11526  24/10/2023  \"If you think you can do a thing or think you ...   \n",
       "\n",
       "       host_response_time host_is_superhost  ... number_of_reviews_ltm  \\\n",
       "0          within an hour                 t  ...                  15.0   \n",
       "1      within a few hours                 t  ...                   7.0   \n",
       "2      within a few hours                 f  ...                   4.0   \n",
       "3            within a day                 f  ...                   0.0   \n",
       "4      within a few hours                 t  ...                  22.0   \n",
       "...                   ...               ...  ...                   ...   \n",
       "11522      within an hour                 t  ...                  11.0   \n",
       "11523      within an hour                 t  ...                   6.0   \n",
       "11524      within an hour                 t  ...                   6.0   \n",
       "11525      within an hour                 t  ...                   3.0   \n",
       "11526      within an hour                 t  ...                   3.7   \n",
       "\n",
       "      number_of_reviews_l30d review_scores_rating review_scores_accuracy  \\\n",
       "0                        0.0                 4.93                   4.95   \n",
       "1                        1.0                 4.84                   4.88   \n",
       "2                        0.0                 4.70                   4.68   \n",
       "3                        0.0                 4.75                   4.63   \n",
       "4                        0.3                 4.95                   4.95   \n",
       "...                      ...                  ...                    ...   \n",
       "11522                    2.0                 5.00                   5.00   \n",
       "11523                    0.0                 4.83                   5.00   \n",
       "11524                    1.0                 5.00                   5.00   \n",
       "11525                    0.0                 4.67                   4.67   \n",
       "11526                    0.3                 4.97                   4.97   \n",
       "\n",
       "      review_scores_cleanliness review_scores_checkin  \\\n",
       "0                          4.90                  4.97   \n",
       "1                          4.79                  4.81   \n",
       "2                          4.65                  4.82   \n",
       "3                          4.50                  4.94   \n",
       "4                          4.92                  4.95   \n",
       "...                         ...                   ...   \n",
       "11522                      4.91                  4.82   \n",
       "11523                      5.00                  4.83   \n",
       "11524                      5.00                  5.00   \n",
       "11525                      5.00                  5.00   \n",
       "11526                      5.00                  4.94   \n",
       "\n",
       "      review_scores_communication review_scores_location review_scores_value  \\\n",
       "0                            4.94                   4.82                4.76   \n",
       "1                            4.91                   4.87                4.73   \n",
       "2                            4.82                   4.94                4.47   \n",
       "3                            4.63                   4.88                4.40   \n",
       "4                            4.92                   4.84                4.77   \n",
       "...                           ...                    ...                 ...   \n",
       "11522                        5.00                   5.00                4.45   \n",
       "11523                        5.00                   4.83                4.67   \n",
       "11524                        5.00                   4.83                4.50   \n",
       "11525                        5.00                   4.80                4.33   \n",
       "11526                        4.97                   4.85                4.85   \n",
       "\n",
       "      reviews_per_month  \n",
       "0                  0.80  \n",
       "1                  0.43  \n",
       "2                  0.20  \n",
       "3                  0.10  \n",
       "4                  0.73  \n",
       "...                 ...  \n",
       "11522              1.21  \n",
       "11523              0.65  \n",
       "11524              1.84  \n",
       "11525              0.94  \n",
       "11526              0.50  \n",
       "\n",
       "[11527 rows x 50 columns]"
      ]
     },
     "execution_count": 3,
     "metadata": {},
     "output_type": "execute_result"
    }
   ],
   "source": [
    "# Eliminar columna \"Unnamed: 0\"\n",
    "df_berlin = df_berlin.drop(['Unnamed: 0'], axis = 1)\n",
    "df_berlin"
   ]
  },
  {
   "cell_type": "code",
   "execution_count": 4,
   "metadata": {},
   "outputs": [
    {
     "name": "stdout",
     "output_type": "stream",
     "text": [
      "<class 'pandas.core.frame.DataFrame'>\n",
      "RangeIndex: 11527 entries, 0 to 11526\n",
      "Data columns (total 50 columns):\n",
      " #   Column                       Non-Null Count  Dtype  \n",
      "---  ------                       --------------  -----  \n",
      " 0   last_scraped                 11527 non-null  object \n",
      " 1   name                         11527 non-null  object \n",
      " 2   description                  11527 non-null  object \n",
      " 3   neighborhood_overview        11527 non-null  object \n",
      " 4   picture_url                  11527 non-null  object \n",
      " 5   host_name                    11527 non-null  object \n",
      " 6   host_since                   11527 non-null  object \n",
      " 7   host_about                   11527 non-null  object \n",
      " 8   host_response_time           11527 non-null  object \n",
      " 9   host_is_superhost            11527 non-null  object \n",
      " 10  host_verifications           11527 non-null  object \n",
      " 11  host_has_profile_pic         11527 non-null  object \n",
      " 12  host_identity_verified       11527 non-null  object \n",
      " 13  neighbourhood                11527 non-null  object \n",
      " 14  property_type                11527 non-null  object \n",
      " 15  room_type                    11527 non-null  object \n",
      " 16  bathrooms_text               11527 non-null  object \n",
      " 17  amenities                    11527 non-null  object \n",
      " 18  calendar_updated             11527 non-null  object \n",
      " 19  has_availability             11527 non-null  object \n",
      " 20  calendar_last_scraped        11527 non-null  object \n",
      " 21  last_review                  11527 non-null  object \n",
      " 22  license                      11527 non-null  object \n",
      " 23  instant_bookable             11527 non-null  object \n",
      " 24  id                           11527 non-null  float64\n",
      " 25  host_response_rate           11527 non-null  float64\n",
      " 26  host_acceptance_rate         11527 non-null  float64\n",
      " 27  host_listings_count          11527 non-null  float64\n",
      " 28  host_total_listings_count    11527 non-null  float64\n",
      " 29  accommodates                 11527 non-null  float64\n",
      " 30  bathrooms                    11527 non-null  float64\n",
      " 31  bedrooms                     11527 non-null  float64\n",
      " 32  beds                         11527 non-null  float64\n",
      " 33  price                        11527 non-null  float64\n",
      " 34  minimum_nights               11527 non-null  float64\n",
      " 35  maximum_nights               11527 non-null  float64\n",
      " 36  availability_30              11527 non-null  float64\n",
      " 37  availability_60              11527 non-null  int64  \n",
      " 38  availability_365             11527 non-null  int64  \n",
      " 39  number_of_reviews            11527 non-null  float64\n",
      " 40  number_of_reviews_ltm        11527 non-null  float64\n",
      " 41  number_of_reviews_l30d       11527 non-null  float64\n",
      " 42  review_scores_rating         11527 non-null  float64\n",
      " 43  review_scores_accuracy       11527 non-null  float64\n",
      " 44  review_scores_cleanliness    11527 non-null  float64\n",
      " 45  review_scores_checkin        11527 non-null  float64\n",
      " 46  review_scores_communication  11527 non-null  float64\n",
      " 47  review_scores_location       11527 non-null  float64\n",
      " 48  review_scores_value          11527 non-null  float64\n",
      " 49  reviews_per_month            11527 non-null  float64\n",
      "dtypes: float64(24), int64(2), object(24)\n",
      "memory usage: 4.4+ MB\n"
     ]
    }
   ],
   "source": [
    "df_berlin.info()"
   ]
  },
  {
   "cell_type": "markdown",
   "metadata": {},
   "source": [
    "**Análisis univariado de variables categoricas (Visualizacion)**"
   ]
  },
  {
   "cell_type": "code",
   "execution_count": 5,
   "metadata": {},
   "outputs": [
    {
     "name": "stdout",
     "output_type": "stream",
     "text": [
      "  last_scraped  frequency  percentage  cumulative_perc\n",
      "0   18/09/2024       7258    0.629652         0.629652\n",
      "1   19/09/2024       4269    0.370348         1.000000\n",
      "\n",
      "----------------------------------------------------------------\n",
      "\n",
      "                                                    name  frequency  \\\n",
      "0             Blueground | Prenzlauer Berg, nr Mauerpark         16   \n",
      "1                 Blueground | Mitte, retail in building         13   \n",
      "2                               Apartment Hotel Wittenau         12   \n",
      "3             Blueground | Charlottenburg, nr Tiergarten          9   \n",
      "4                 Blueground | Charlottenburg, nr KaDeWe          8   \n",
      "...                                                  ...        ...   \n",
      "11138                          Komfort Doppelbett-Zimmer          1   \n",
      "11139                                     Familienzimmer          1   \n",
      "11140                 Big bright room in very green area          1   \n",
      "11141  *NEW* fully renovated 1-bedroom Loft Space 5 f...          1   \n",
      "11142                           Extended Garden Loft 139          1   \n",
      "\n",
      "       percentage  cumulative_perc  \n",
      "0        0.001388         0.001388  \n",
      "1        0.001128         0.002516  \n",
      "2        0.001041         0.003557  \n",
      "3        0.000781         0.004338  \n",
      "4        0.000694         0.005032  \n",
      "...           ...              ...  \n",
      "11138    0.000087         0.999653  \n",
      "11139    0.000087         0.999740  \n",
      "11140    0.000087         0.999826  \n",
      "11141    0.000087         0.999913  \n",
      "11142    0.000087         1.000000  \n",
      "\n",
      "[11143 rows x 4 columns]\n",
      "\n",
      "----------------------------------------------------------------\n",
      "\n",
      "                                             description  frequency  \\\n",
      "0      At limehome, we believe that everyone deserves...         76   \n",
      "1      Our mission is to empower individuals to immer...         23   \n",
      "2      Keep it simple at this peaceful and centrally-...         20   \n",
      "3      Enjoy a stylish experience at this centrally-l...         19   \n",
      "4      Apartment in a 20s Berlin building that preser...         19   \n",
      "...                                                  ...        ...   \n",
      "10104  Welcome to Arbio Cosy Spacious Apartment locat...          1   \n",
      "10105  This spacious and high-quality apartment is lo...          1   \n",
      "10106  The roof of Berlin Kreuzberg.<br /><br />The r...          1   \n",
      "10107  You have your private cozy room with TV, Wifi,...          1   \n",
      "10108  This modern apartment is located in the new Ca...          1   \n",
      "\n",
      "       percentage  cumulative_perc  \n",
      "0        0.006593         0.006593  \n",
      "1        0.001995         0.008589  \n",
      "2        0.001735         0.010324  \n",
      "3        0.001648         0.011972  \n",
      "4        0.001648         0.013620  \n",
      "...           ...              ...  \n",
      "10104    0.000087         0.999653  \n",
      "10105    0.000087         0.999740  \n",
      "10106    0.000087         0.999826  \n",
      "10107    0.000087         0.999913  \n",
      "10108    0.000087         1.000000  \n",
      "\n",
      "[10109 rows x 4 columns]\n",
      "\n",
      "----------------------------------------------------------------\n",
      "\n",
      "                                  neighborhood_overview  frequency  \\\n",
      "0     This furnished apartment is located in Mitte, ...        107   \n",
      "1     This furnished apartment is located in Charlot...         98   \n",
      "2     Welcome Traveler.<br />The Singer Hostel and  ...         78   \n",
      "3     This furnished apartment is located in Prenzla...         71   \n",
      "4     Hardly anywhere else in Berlin combines authen...         55   \n",
      "...                                                 ...        ...   \n",
      "5392  The area has lots of bars, restaurants, boutiq...          1   \n",
      "5393  Mauerpark, Kohlenquelle (pub), Kaanan (hip res...          1   \n",
      "5394  The apartment is located in Crellekietz--here ...          1   \n",
      "5395  My apartment is located on the first floor. Th...          1   \n",
      "5396  Prenzlauer Berg is one of the beautiful neighb...          1   \n",
      "\n",
      "      percentage  cumulative_perc  \n",
      "0       0.009283         0.009283  \n",
      "1       0.008502         0.017784  \n",
      "2       0.006767         0.024551  \n",
      "3       0.006159         0.030711  \n",
      "4       0.004771         0.035482  \n",
      "...          ...              ...  \n",
      "5392    0.000087         0.999653  \n",
      "5393    0.000087         0.999740  \n",
      "5394    0.000087         0.999826  \n",
      "5395    0.000087         0.999913  \n",
      "5396    0.000087         1.000000  \n",
      "\n",
      "[5397 rows x 4 columns]\n",
      "\n",
      "----------------------------------------------------------------\n",
      "\n",
      "                                             picture_url  frequency  \\\n",
      "0      https://a0.muscache.com/pictures/9c138a48-e8d8...         10   \n",
      "1      https://a0.muscache.com/pictures/f5c74865-b492...         10   \n",
      "2      https://a0.muscache.com/pictures/b6ccf00d-b9ed...          8   \n",
      "3      https://a0.muscache.com/pictures/miso/Hosting-...          8   \n",
      "4      https://a0.muscache.com/pictures/miso/Hosting-...          7   \n",
      "...                                                  ...        ...   \n",
      "11337  https://a0.muscache.com/pictures/d671035d-09e5...          1   \n",
      "11338  https://a0.muscache.com/pictures/88559aad-9b2f...          1   \n",
      "11339  https://a0.muscache.com/pictures/d60b577b-aa1f...          1   \n",
      "11340  https://a0.muscache.com/pictures/04d4d5ee-f5a6...          1   \n",
      "11341  https://a0.muscache.com/pictures/miso/Hosting-...          1   \n",
      "\n",
      "       percentage  cumulative_perc  \n",
      "0        0.000868         0.000868  \n",
      "1        0.000868         0.001735  \n",
      "2        0.000694         0.002429  \n",
      "3        0.000694         0.003123  \n",
      "4        0.000607         0.003730  \n",
      "...           ...              ...  \n",
      "11337    0.000087         0.999653  \n",
      "11338    0.000087         0.999740  \n",
      "11339    0.000087         0.999826  \n",
      "11340    0.000087         0.999913  \n",
      "11341    0.000087         1.000000  \n",
      "\n",
      "[11342 rows x 4 columns]\n",
      "\n",
      "----------------------------------------------------------------\n",
      "\n",
      "       host_name  frequency  percentage  cumulative_perc\n",
      "0     Blueground        206    0.017871         0.017871\n",
      "1        Michael         85    0.007374         0.025245\n",
      "2         Daniel         85    0.007374         0.032619\n",
      "3       Limehome         78    0.006767         0.039386\n",
      "4           Anna         72    0.006246         0.045632\n",
      "...          ...        ...         ...              ...\n",
      "3434      Caesar          1    0.000087         0.999653\n",
      "3435        Lene          1    0.000087         0.999740\n",
      "3436      Faezeh          1    0.000087         0.999826\n",
      "3437      Gunter          1    0.000087         0.999913\n",
      "3438       Tanaz          1    0.000087         1.000000\n",
      "\n",
      "[3439 rows x 4 columns]\n",
      "\n",
      "----------------------------------------------------------------\n",
      "\n",
      "      host_since  frequency  percentage  cumulative_perc\n",
      "0     03/12/2021        207    0.017958         0.017958\n",
      "1     13/08/2021         78    0.006767         0.024725\n",
      "2     15/03/2022         58    0.005032         0.029756\n",
      "3     02/08/2023         55    0.004771         0.034528\n",
      "4     12/02/2020         53    0.004598         0.039126\n",
      "...          ...        ...         ...              ...\n",
      "3436  06/05/2012          1    0.000087         0.999653\n",
      "3437  08/03/2020          1    0.000087         0.999740\n",
      "3438  08/02/2014          1    0.000087         0.999826\n",
      "3439  23/02/2020          1    0.000087         0.999913\n",
      "3440  07/02/2022          1    0.000087         1.000000\n",
      "\n",
      "[3441 rows x 4 columns]\n",
      "\n",
      "----------------------------------------------------------------\n",
      "\n",
      "                                             host_about  frequency  \\\n",
      "0     We‚Äö√Ñ√∂‚àö√ë‚àö¬•re Blueground, a global pro...        355   \n",
      "1     At limehome, we believe that everyone deserves...        107   \n",
      "2     Ich bin 38 R‚Äö√†√∂¬¨√üume gro‚Äö√†√∂‚àö¬∫ / s...         80   \n",
      "3     In a world of stuffy, faceless hotels, we‚Äö√Ñ...         78   \n",
      "4     Die DOWNTOWN APARTMENTS Mitte/Wedding sind ent...         78   \n",
      "...                                                 ...        ...   \n",
      "4022                                     We like movies          1   \n",
      "4023  Ich bin ein offener Mensch und arbeite als Kul...          1   \n",
      "4024  what do you like to know? 49 male, 2 kids,  li...          1   \n",
      "4025  I am from Berlin and earn my living with playi...          1   \n",
      "4026  ‚Äö√†√∂‚àö√´rztin, offen, froehlich, reiselust...          1   \n",
      "\n",
      "      percentage  cumulative_perc  \n",
      "0       0.030797         0.030797  \n",
      "1       0.009283         0.040080  \n",
      "2       0.006940         0.047020  \n",
      "3       0.006767         0.053787  \n",
      "4       0.006767         0.060553  \n",
      "...          ...              ...  \n",
      "4022    0.000087         0.999653  \n",
      "4023    0.000087         0.999740  \n",
      "4024    0.000087         0.999826  \n",
      "4025    0.000087         0.999913  \n",
      "4026    0.000087         1.000000  \n",
      "\n",
      "[4027 rows x 4 columns]\n",
      "\n",
      "----------------------------------------------------------------\n",
      "\n",
      "   host_response_time  frequency  percentage  cumulative_perc\n",
      "0        within a day       5687    0.493363         0.493363\n",
      "1      within an hour       4253    0.368960         0.862323\n",
      "2  within a few hours       1229    0.106619         0.968942\n",
      "3  a few days or more        358    0.031058         1.000000\n",
      "\n",
      "----------------------------------------------------------------\n",
      "\n",
      "  host_is_superhost  frequency  percentage  cumulative_perc\n",
      "0                 f       8878    0.770192         0.770192\n",
      "1                 t       2649    0.229808         1.000000\n",
      "\n",
      "----------------------------------------------------------------\n",
      "\n",
      "                 host_verifications  frequency  percentage  cumulative_perc\n",
      "0                ['email', 'phone']       9320    0.808536         0.808536\n",
      "1  ['email', 'phone', 'work_email']       1455    0.126225         0.934762\n",
      "2                         ['phone']        676    0.058645         0.993407\n",
      "3           ['phone', 'work_email']         44    0.003817         0.997224\n",
      "4                         ['email']         25    0.002169         0.999393\n",
      "5                                []          6    0.000521         0.999913\n",
      "6           ['email', 'work_email']          1    0.000087         1.000000\n",
      "\n",
      "----------------------------------------------------------------\n",
      "\n",
      "  host_has_profile_pic  frequency  percentage  cumulative_perc\n",
      "0                    t      11369    0.986293         0.986293\n",
      "1                    f        158    0.013707         1.000000\n",
      "\n",
      "----------------------------------------------------------------\n",
      "\n",
      "  host_identity_verified  frequency  percentage  cumulative_perc\n",
      "0                      t      10447    0.906307         0.906307\n",
      "1                      f       1080    0.093693         1.000000\n",
      "\n",
      "----------------------------------------------------------------\n",
      "\n",
      "                                        neighbourhood  frequency  percentage  \\\n",
      "0                                     Berlin, Germany      11464    0.994535   \n",
      "1                             Berlin - Mitte, Germany         12    0.001041   \n",
      "2                    Berlin, Prenzlauer Berg, Germany          5    0.000434   \n",
      "3                        Alt Treptow, Berlin, Germany          4    0.000347   \n",
      "4              Berlin Charlottenburg, Berlin, Germany          4    0.000347   \n",
      "5   Sch‚Äö√†√∂‚Äö√†√áneiche bei Berlin, Brandenbur...          3    0.000260   \n",
      "6                                 Berlin, Be, Germany          3    0.000260   \n",
      "7                              Berlin, Mitte, Germany          2    0.000174   \n",
      "8                                 Berlin, DE, Germany          2    0.000174   \n",
      "9                                 Berlin, BE, Germany          2    0.000174   \n",
      "10                 Berlin, Kreuzberg, Berlin, Germany          2    0.000174   \n",
      "11           Berlin Prenzlauer Berg , Berlin, Germany          2    0.000174   \n",
      "12                            berlin, Berlin, Germany          2    0.000174   \n",
      "13                          Berlin-Bohnsdorf, Germany          2    0.000174   \n",
      "14                                Berlin, SN, Germany          2    0.000174   \n",
      "15                           Berlin, Spandau, Germany          1    0.000087   \n",
      "16                             Mitte, Berlin, Germany          1    0.000087   \n",
      "17                        Weissensee, Berlin, Germany          1    0.000087   \n",
      "18                  Hoppegarten, Brandenburg, Germany          1    0.000087   \n",
      "19                        Berlin, Zehlendorf, Germany          1    0.000087   \n",
      "20           Weissenhoher Strasse 14, Berlin, Germany          1    0.000087   \n",
      "21                     Berlin, Mitte, Berlin, Germany          1    0.000087   \n",
      "22             Berlin Friedrichshain, Berlin, Germany          1    0.000087   \n",
      "23                    Friedrichshain, Berlin, Germany          1    0.000087   \n",
      "24                Berlin-Wilmersdorf, Berlin, Germany          1    0.000087   \n",
      "25                       Berlin, Deutschland, Germany          1    0.000087   \n",
      "26                  Mitte/Tiergarten, Berlin, Germany          1    0.000087   \n",
      "27                     Berlin, schmargendorf, Germany          1    0.000087   \n",
      "28            Berlin- Charlottenburg, Berlin, Germany          1    0.000087   \n",
      "29                      Berlin-Mitte, Berlin, Germany          1    0.000087   \n",
      "30                  Berlin-Kreuzberg, Berlin, Germany          1    0.000087   \n",
      "\n",
      "    cumulative_perc  \n",
      "0          0.994535  \n",
      "1          0.995576  \n",
      "2          0.996009  \n",
      "3          0.996356  \n",
      "4          0.996703  \n",
      "5          0.996964  \n",
      "6          0.997224  \n",
      "7          0.997397  \n",
      "8          0.997571  \n",
      "9          0.997744  \n",
      "10         0.997918  \n",
      "11         0.998091  \n",
      "12         0.998265  \n",
      "13         0.998438  \n",
      "14         0.998612  \n",
      "15         0.998699  \n",
      "16         0.998785  \n",
      "17         0.998872  \n",
      "18         0.998959  \n",
      "19         0.999046  \n",
      "20         0.999132  \n",
      "21         0.999219  \n",
      "22         0.999306  \n",
      "23         0.999393  \n",
      "24         0.999479  \n",
      "25         0.999566  \n",
      "26         0.999653  \n",
      "27         0.999740  \n",
      "28         0.999826  \n",
      "29         0.999913  \n",
      "30         1.000000  \n",
      "\n",
      "----------------------------------------------------------------\n",
      "\n",
      "                         property_type  frequency  percentage  cumulative_perc\n",
      "0                   Entire rental unit       5820    0.504902         0.504902\n",
      "1          Private room in rental unit       2783    0.241433         0.746335\n",
      "2                         Entire condo        726    0.062983         0.809317\n",
      "3            Entire serviced apartment        374    0.032446         0.841763\n",
      "4                Private room in condo        250    0.021688         0.863451\n",
      "5                          Entire loft        241    0.020907         0.884358\n",
      "6                        Room in hotel        198    0.017177         0.901536\n",
      "7                 Private room in home        166    0.014401         0.915936\n",
      "8                          Entire home        132    0.011451         0.927388\n",
      "9                Shared room in hostel         76    0.006593         0.933981\n",
      "10                   Entire guesthouse         68    0.005899         0.939880\n",
      "11              Room in boutique hotel         60    0.005205         0.945085\n",
      "12              Private room in hostel         57    0.004945         0.950030\n",
      "13                  Room in aparthotel         49    0.004251         0.954281\n",
      "14                Entire vacation home         46    0.003991         0.958272\n",
      "15                Private room in loft         44    0.003817         0.962089\n",
      "16          Shared room in rental unit         40    0.003470         0.965559\n",
      "17          Room in serviced apartment         40    0.003470         0.969029\n",
      "18   Private room in bed and breakfast         38    0.003297         0.972326\n",
      "19           Private room in townhouse         33    0.002863         0.975189\n",
      "20                        Private room         33    0.002863         0.978052\n",
      "21                    Entire townhouse         30    0.002603         0.980654\n",
      "22                           Houseboat         22    0.001909         0.982563\n",
      "23                  Entire guest suite         22    0.001909         0.984471\n",
      "24                     Entire bungalow         19    0.001648         0.986120\n",
      "25          Private room in guesthouse         17    0.001475         0.987594\n",
      "26                        Entire place         15    0.001301         0.988896\n",
      "27  Private room in serviced apartment         14    0.001215         0.990110\n",
      "28                           Tiny home         14    0.001215         0.991325\n",
      "29                                Boat          9    0.000781         0.992105\n",
      "30               Private room in villa          8    0.000694         0.992800\n",
      "31             Private room in pension          7    0.000607         0.993407\n",
      "32     Private room in casa particular          7    0.000607         0.994014\n",
      "33            Private room in bungalow          7    0.000607         0.994621\n",
      "34                        Entire villa          6    0.000521         0.995142\n",
      "35                      Room in hostel          6    0.000521         0.995662\n",
      "36                      Entire cottage          5    0.000434         0.996096\n",
      "37       Private room in vacation home          4    0.000347         0.996443\n",
      "38           Private room in houseboat          4    0.000347         0.996790\n",
      "39    Shared room in bed and breakfast          4    0.000347         0.997137\n",
      "40         Private room in guest suite          4    0.000347         0.997484\n",
      "41                           Camper/RV          3    0.000260         0.997744\n",
      "42                         Shared room          3    0.000260         0.998005\n",
      "43              Private room in castle          2    0.000174         0.998178\n",
      "44                        Entire cabin          2    0.000174         0.998352\n",
      "45                Shared room in hotel          2    0.000174         0.998525\n",
      "46                       Entire chalet          2    0.000174         0.998699\n",
      "47                Private room in cave          2    0.000174         0.998872\n",
      "48       Shared room in boutique hotel          2    0.000174         0.999046\n",
      "49                     Casa particular          1    0.000087         0.999132\n",
      "50                                Dome          1    0.000087         0.999219\n",
      "51                 Shared room in boat          1    0.000087         0.999306\n",
      "52  Private room in shipping container          1    0.000087         0.999393\n",
      "53                                Cave          1    0.000087         0.999479\n",
      "54   Shared room in serviced apartment          1    0.000087         0.999566\n",
      "55                Private room in tipi          1    0.000087         0.999653\n",
      "56                Private room in boat          1    0.000087         0.999740\n",
      "57                              Island          1    0.000087         0.999826\n",
      "58                 Shared room in loft          1    0.000087         0.999913\n",
      "59              Private room in chalet          1    0.000087         1.000000\n",
      "\n",
      "----------------------------------------------------------------\n",
      "\n",
      "         room_type  frequency  percentage  cumulative_perc\n",
      "0  Entire home/apt       7593    0.658714         0.658714\n",
      "1     Private room       3698    0.320812         0.979526\n",
      "2      Shared room        130    0.011278         0.990804\n",
      "3       Hotel room        106    0.009196         1.000000\n",
      "\n",
      "----------------------------------------------------------------\n",
      "\n",
      "       bathrooms_text  frequency  percentage  cumulative_perc\n",
      "0              1 bath       7002    0.607443         0.607443\n",
      "1       1 shared bath       1888    0.163789         0.771233\n",
      "2             2 baths        741    0.064284         0.835517\n",
      "3      1 private bath        688    0.059686         0.895203\n",
      "4           1.5 baths        586    0.050837         0.946040\n",
      "5    1.5 shared baths        221    0.019172         0.965212\n",
      "6      2 shared baths        119    0.010324         0.975536\n",
      "7           2.5 baths         93    0.008068         0.983604\n",
      "8             3 baths         42    0.003644         0.987247\n",
      "9             0 baths         29    0.002516         0.989763\n",
      "10          Half-bath         27    0.002342         0.992105\n",
      "11     0 shared baths         25    0.002169         0.994274\n",
      "12   2.5 shared baths         12    0.001041         0.995315\n",
      "13          3.5 baths          9    0.000781         0.996096\n",
      "14     3 shared baths          9    0.000781         0.996877\n",
      "15   Shared half-bath          8    0.000694         0.997571\n",
      "16            4 baths          8    0.000694         0.998265\n",
      "17            6 baths          4    0.000347         0.998612\n",
      "18  Private half-bath          3    0.000260         0.998872\n",
      "19   8.5 shared baths          3    0.000260         0.999132\n",
      "20     5 shared baths          3    0.000260         0.999393\n",
      "21          4.5 baths          2    0.000174         0.999566\n",
      "22     4 shared baths          2    0.000174         0.999740\n",
      "23            8 baths          1    0.000087         0.999826\n",
      "24            5 baths          1    0.000087         0.999913\n",
      "25          8.5 baths          1    0.000087         1.000000\n",
      "\n",
      "----------------------------------------------------------------\n",
      "\n",
      "                                               amenities  frequency  \\\n",
      "0                                                     []        145   \n",
      "1      [\"Washer\", \"Essentials\", \"Heating\", \"Wifi\", \"K...         72   \n",
      "2               [\"Wifi\", \"Washer\", \"Kitchen\", \"Heating\"]         40   \n",
      "3      [\"Dining table\", \"Dedicated workspace\", \"Oven\"...         37   \n",
      "4      [\"Washer\", \"Essentials\", \"Smoking allowed\", \"H...         27   \n",
      "...                                                  ...        ...   \n",
      "10173  [\"Baking sheet\", \"Dining table\", \"Dedicated wo...          1   \n",
      "10174  [\"Hangers\", \"Free street parking\", \"Heating\", ...          1   \n",
      "10175  [\"Baking sheet\", \"Dining table\", \"Dedicated wo...          1   \n",
      "10176  [\"Dryer\", \"Dedicated workspace\", \"Oven\", \"BBQ ...          1   \n",
      "10177  [\"Baking sheet\", \"Dining table\", \"Crib\", \"Dedi...          1   \n",
      "\n",
      "       percentage  cumulative_perc  \n",
      "0        0.012579         0.012579  \n",
      "1        0.006246         0.018825  \n",
      "2        0.003470         0.022295  \n",
      "3        0.003210         0.025505  \n",
      "4        0.002342         0.027848  \n",
      "...           ...              ...  \n",
      "10173    0.000087         0.999653  \n",
      "10174    0.000087         0.999740  \n",
      "10175    0.000087         0.999826  \n",
      "10176    0.000087         0.999913  \n",
      "10177    0.000087         1.000000  \n",
      "\n",
      "[10178 rows x 4 columns]\n",
      "\n",
      "----------------------------------------------------------------\n",
      "\n",
      "  calendar_updated  frequency  percentage  cumulative_perc\n",
      "0       20/05/2019      11527         1.0              1.0\n",
      "\n",
      "----------------------------------------------------------------\n",
      "\n",
      "  has_availability  frequency  percentage  cumulative_perc\n",
      "0                t      11512    0.998699         0.998699\n",
      "1                f         15    0.001301         1.000000\n",
      "\n",
      "----------------------------------------------------------------\n",
      "\n",
      "  calendar_last_scraped  frequency  percentage  cumulative_perc\n",
      "0            18/09/2024       7259    0.629739         0.629739\n",
      "1            19/09/2024       4268    0.370261         1.000000\n",
      "\n",
      "----------------------------------------------------------------\n",
      "\n",
      "     last_review  frequency  percentage  cumulative_perc\n",
      "0     01/01/2024       2091    0.181400         0.181400\n",
      "1     15/09/2024        291    0.025245         0.206645\n",
      "2     09/09/2024        247    0.021428         0.228073\n",
      "3     08/09/2024        227    0.019693         0.247766\n",
      "4     01/09/2024        181    0.015702         0.263468\n",
      "...          ...        ...         ...              ...\n",
      "2086  27/03/2024          1    0.000087         0.999653\n",
      "2087  12/02/2019          1    0.000087         0.999740\n",
      "2088  28/03/2017          1    0.000087         0.999826\n",
      "2089  18/07/2018          1    0.000087         0.999913\n",
      "2090  07/10/2023          1    0.000087         1.000000\n",
      "\n",
      "[2091 rows x 4 columns]\n",
      "\n",
      "----------------------------------------------------------------\n",
      "\n",
      "                                                license  frequency  \\\n",
      "0     Legal entity name and Legal form: Odysseehoste...         72   \n",
      "1     Legal entity name and Legal form: DA Downtown ...         65   \n",
      "2     Legal entity name and Legal form: DA Downtown ...         55   \n",
      "3                                     02/Z/AZ/014279-21         29   \n",
      "4     Legal entity name and Legal form: ElPilar Part...         22   \n",
      "...                                                 ...        ...   \n",
      "5806                                  03/Z/AZ/004848-19          1   \n",
      "5807  Legal entity name and Legal form: Gr‚Äö√†√∂¬¨‚...          1   \n",
      "5808  First name and Last name: Josephine N‚Äö√†√∂¬¨...          1   \n",
      "5809  Legal entity name and Legal form: Living Hotel...          1   \n",
      "5810  Legal entity name and Legal form: Godebo GmbH ...          1   \n",
      "\n",
      "      percentage  cumulative_perc  \n",
      "0       0.006246         0.006246  \n",
      "1       0.005639         0.011885  \n",
      "2       0.004771         0.016657  \n",
      "3       0.002516         0.019172  \n",
      "4       0.001909         0.021081  \n",
      "...          ...              ...  \n",
      "5806    0.000087         0.999653  \n",
      "5807    0.000087         0.999740  \n",
      "5808    0.000087         0.999826  \n",
      "5809    0.000087         0.999913  \n",
      "5810    0.000087         1.000000  \n",
      "\n",
      "[5811 rows x 4 columns]\n",
      "\n",
      "----------------------------------------------------------------\n",
      "\n",
      "  instant_bookable  frequency  percentage  cumulative_perc\n",
      "0                f       8627    0.748417         0.748417\n",
      "1                t       2900    0.251583         1.000000\n",
      "\n",
      "----------------------------------------------------------------\n",
      "\n"
     ]
    }
   ],
   "source": [
    "freq_tbl(df_berlin)"
   ]
  },
  {
   "cell_type": "markdown",
   "metadata": {},
   "source": [
    "**Variable categórica 1: last_scraped**"
   ]
  },
  {
   "cell_type": "code",
   "execution_count": null,
   "metadata": {},
   "outputs": [],
   "source": [
    "# Obtenemos un análisis univariado de una variable categórica en específico\n",
    "table1 = freq_tbl(df_berlin[\"last_scraped\"])\n",
    "table1"
   ]
  },
  {
   "cell_type": "code",
   "execution_count": null,
   "metadata": {},
   "outputs": [],
   "source": [
    "# Eliminamos las columnas \"percentage\" y \"cumulative_perc\" para solo trabajar con las frecuencias\n",
    "table1 = table1.drop(['percentage', 'cumulative_perc'], axis = 1)\n",
    "table1"
   ]
  },
  {
   "cell_type": "code",
   "execution_count": 14,
   "metadata": {},
   "outputs": [
    {
     "data": {
      "text/html": [
       "<div>\n",
       "<style scoped>\n",
       "    .dataframe tbody tr th:only-of-type {\n",
       "        vertical-align: middle;\n",
       "    }\n",
       "\n",
       "    .dataframe tbody tr th {\n",
       "        vertical-align: top;\n",
       "    }\n",
       "\n",
       "    .dataframe thead th {\n",
       "        text-align: right;\n",
       "    }\n",
       "</style>\n",
       "<table border=\"1\" class=\"dataframe\">\n",
       "  <thead>\n",
       "    <tr style=\"text-align: right;\">\n",
       "      <th></th>\n",
       "      <th>frequency</th>\n",
       "    </tr>\n",
       "    <tr>\n",
       "      <th>last_scraped</th>\n",
       "      <th></th>\n",
       "    </tr>\n",
       "  </thead>\n",
       "  <tbody>\n",
       "    <tr>\n",
       "      <th>18/09/2024</th>\n",
       "      <td>7258</td>\n",
       "    </tr>\n",
       "    <tr>\n",
       "      <th>19/09/2024</th>\n",
       "      <td>4269</td>\n",
       "    </tr>\n",
       "  </tbody>\n",
       "</table>\n",
       "</div>"
      ],
      "text/plain": [
       "              frequency\n",
       "last_scraped           \n",
       "18/09/2024         7258\n",
       "19/09/2024         4269"
      ]
     },
     "execution_count": 14,
     "metadata": {},
     "output_type": "execute_result"
    }
   ],
   "source": [
    "# Ajusto el limite de mi dataframe\n",
    "table1 = table1.set_index('last_scraped')\n",
    "table1"
   ]
  },
  {
   "cell_type": "code",
   "execution_count": 15,
   "metadata": {},
   "outputs": [
    {
     "data": {
      "text/plain": [
       "<Axes: xlabel='last_scraped'>"
      ]
     },
     "execution_count": 15,
     "metadata": {},
     "output_type": "execute_result"
    },
    {
     "data": {
      "image/png": "[encoded data removed]",
      "text/plain": [
       "<Figure size 1000x400 with 1 Axes>"
      ]
     },
     "metadata": {},
     "output_type": "display_data"
    }
   ],
   "source": [
    "# Gráfico de tipo área del dataframe\n",
    "table1.plot(kind = \"area\", figsize=(10,4), alpha = .4)"
   ]
  },
  {
   "cell_type": "markdown",
   "metadata": {},
   "source": [
    "**Variable categórica 2: Instand bookable**"
   ]
  },
  {
   "cell_type": "code",
   "execution_count": null,
   "metadata": {},
   "outputs": [],
   "source": [
    "# Obtenemos un análisis univariado de una variable categórica en específico\n",
    "table2 = freq_tbl(df_berlin[\"instant_bookable\"])\n",
    "table2"
   ]
  },
  {
   "cell_type": "code",
   "execution_count": null,
   "metadata": {},
   "outputs": [],
   "source": [
    "# Eliminamos las columnas \"percentage\" y \"cumulative_perc\" para solo trabajar con las frecuencias\n",
    "table2 = table2.drop(['percentage', 'cumulative_perc'], axis = 1)\n",
    "table2"
   ]
  },
  {
   "cell_type": "code",
   "execution_count": 18,
   "metadata": {},
   "outputs": [
    {
     "data": {
      "text/html": [
       "<div>\n",
       "<style scoped>\n",
       "    .dataframe tbody tr th:only-of-type {\n",
       "        vertical-align: middle;\n",
       "    }\n",
       "\n",
       "    .dataframe tbody tr th {\n",
       "        vertical-align: top;\n",
       "    }\n",
       "\n",
       "    .dataframe thead th {\n",
       "        text-align: right;\n",
       "    }\n",
       "</style>\n",
       "<table border=\"1\" class=\"dataframe\">\n",
       "  <thead>\n",
       "    <tr style=\"text-align: right;\">\n",
       "      <th></th>\n",
       "      <th>frequency</th>\n",
       "    </tr>\n",
       "    <tr>\n",
       "      <th>instant_bookable</th>\n",
       "      <th></th>\n",
       "    </tr>\n",
       "  </thead>\n",
       "  <tbody>\n",
       "    <tr>\n",
       "      <th>f</th>\n",
       "      <td>8627</td>\n",
       "    </tr>\n",
       "    <tr>\n",
       "      <th>t</th>\n",
       "      <td>2900</td>\n",
       "    </tr>\n",
       "  </tbody>\n",
       "</table>\n",
       "</div>"
      ],
      "text/plain": [
       "                  frequency\n",
       "instant_bookable           \n",
       "f                      8627\n",
       "t                      2900"
      ]
     },
     "execution_count": 18,
     "metadata": {},
     "output_type": "execute_result"
    }
   ],
   "source": [
    "# Ajusto el limite de mi dataframe\n",
    "table2 = table2.set_index('instant_bookable')\n",
    "table2"
   ]
  },
  {
   "cell_type": "code",
   "execution_count": 19,
   "metadata": {},
   "outputs": [
    {
     "data": {
      "text/plain": [
       "<Axes: ylabel='frequency'>"
      ]
     },
     "execution_count": 19,
     "metadata": {},
     "output_type": "execute_result"
    },
    {
     "data": {
      "image/png": "[encoded data removed]",
      "text/plain": [
       "<Figure size 1000x500 with 1 Axes>"
      ]
     },
     "metadata": {},
     "output_type": "display_data"
    }
   ],
   "source": [
    "# Gráfico de pastel del dataframe filtrado\n",
    "table2[\"frequency\"].plot(kind = 'pie', figsize=(10,5), shadow =False, autopct = \"%0.1f %%\")"
   ]
  },
  {
   "cell_type": "markdown",
   "metadata": {},
   "source": [
    "**Variable ctaegórica 3: has_availability**"
   ]
  },
  {
   "cell_type": "code",
   "execution_count": null,
   "metadata": {},
   "outputs": [],
   "source": [
    "# Obtenemos un análisis univariado de uan variable categórica en específico\n",
    "table3 = freq_tbl(df_berlin['has_availability'])\n",
    "table3"
   ]
  },
  {
   "cell_type": "code",
   "execution_count": null,
   "metadata": {},
   "outputs": [],
   "source": [
    "# Eliminar columnas \"percentage\" y \"cumulative_perc\" para trabajar con las frecuencias\n",
    "table3_1 = table3.drop(['percentage', 'cumulative_perc'], axis = 1)\n",
    "table3_1"
   ]
  },
  {
   "cell_type": "code",
   "execution_count": 22,
   "metadata": {},
   "outputs": [
    {
     "data": {
      "text/html": [
       "<div>\n",
       "<style scoped>\n",
       "    .dataframe tbody tr th:only-of-type {\n",
       "        vertical-align: middle;\n",
       "    }\n",
       "\n",
       "    .dataframe tbody tr th {\n",
       "        vertical-align: top;\n",
       "    }\n",
       "\n",
       "    .dataframe thead th {\n",
       "        text-align: right;\n",
       "    }\n",
       "</style>\n",
       "<table border=\"1\" class=\"dataframe\">\n",
       "  <thead>\n",
       "    <tr style=\"text-align: right;\">\n",
       "      <th></th>\n",
       "      <th>frequency</th>\n",
       "    </tr>\n",
       "    <tr>\n",
       "      <th>has_availability</th>\n",
       "      <th></th>\n",
       "    </tr>\n",
       "  </thead>\n",
       "  <tbody>\n",
       "    <tr>\n",
       "      <th>t</th>\n",
       "      <td>11512</td>\n",
       "    </tr>\n",
       "    <tr>\n",
       "      <th>f</th>\n",
       "      <td>15</td>\n",
       "    </tr>\n",
       "  </tbody>\n",
       "</table>\n",
       "</div>"
      ],
      "text/plain": [
       "                  frequency\n",
       "has_availability           \n",
       "t                     11512\n",
       "f                        15"
      ]
     },
     "execution_count": 22,
     "metadata": {},
     "output_type": "execute_result"
    }
   ],
   "source": [
    "# Ajustamos el índice del dataframe\n",
    "table3_1 = table3_1.set_index('has_availability')\n",
    "table3_1"
   ]
  },
  {
   "cell_type": "code",
   "execution_count": 23,
   "metadata": {},
   "outputs": [
    {
     "data": {
      "text/plain": [
       "<Axes: xlabel='frequency', ylabel='cumulative_perc'>"
      ]
     },
     "execution_count": 23,
     "metadata": {},
     "output_type": "execute_result"
    },
    {
     "data": {
      "image/png": "[encoded data removed]",
      "text/plain": [
       "<Figure size 640x480 with 1 Axes>"
      ]
     },
     "metadata": {},
     "output_type": "display_data"
    }
   ],
   "source": [
    "# Gráfico de dispersión del dataframe\n",
    "table3.plot(\"frequency\", \"cumulative_perc\", kind = \"scatter\")"
   ]
  },
  {
   "cell_type": "markdown",
   "metadata": {},
   "source": [
    "**Varible categórica 4: room_type**"
   ]
  },
  {
   "cell_type": "code",
   "execution_count": null,
   "metadata": {},
   "outputs": [],
   "source": [
    "# Obtengo un análisis univariado de una variable categórica en especifico\n",
    "table4 = freq_tbl(df_berlin['room_type'])\n",
    "table4"
   ]
  },
  {
   "cell_type": "code",
   "execution_count": null,
   "metadata": {},
   "outputs": [],
   "source": [
    "# Elimino las columnas \"percentage\" y \"cumulative_perc\" para trabajar con las frecuencias\n",
    "table4_1 = table4.drop(['percentage', 'cumulative_perc'], axis = 1)\n",
    "table4_1"
   ]
  },
  {
   "cell_type": "code",
   "execution_count": 26,
   "metadata": {},
   "outputs": [
    {
     "data": {
      "text/html": [
       "<div>\n",
       "<style scoped>\n",
       "    .dataframe tbody tr th:only-of-type {\n",
       "        vertical-align: middle;\n",
       "    }\n",
       "\n",
       "    .dataframe tbody tr th {\n",
       "        vertical-align: top;\n",
       "    }\n",
       "\n",
       "    .dataframe thead th {\n",
       "        text-align: right;\n",
       "    }\n",
       "</style>\n",
       "<table border=\"1\" class=\"dataframe\">\n",
       "  <thead>\n",
       "    <tr style=\"text-align: right;\">\n",
       "      <th></th>\n",
       "      <th>frequency</th>\n",
       "    </tr>\n",
       "    <tr>\n",
       "      <th>room_type</th>\n",
       "      <th></th>\n",
       "    </tr>\n",
       "  </thead>\n",
       "  <tbody>\n",
       "    <tr>\n",
       "      <th>Entire home/apt</th>\n",
       "      <td>7593</td>\n",
       "    </tr>\n",
       "    <tr>\n",
       "      <th>Private room</th>\n",
       "      <td>3698</td>\n",
       "    </tr>\n",
       "    <tr>\n",
       "      <th>Shared room</th>\n",
       "      <td>130</td>\n",
       "    </tr>\n",
       "    <tr>\n",
       "      <th>Hotel room</th>\n",
       "      <td>106</td>\n",
       "    </tr>\n",
       "  </tbody>\n",
       "</table>\n",
       "</div>"
      ],
      "text/plain": [
       "                 frequency\n",
       "room_type                 \n",
       "Entire home/apt       7593\n",
       "Private room          3698\n",
       "Shared room            130\n",
       "Hotel room             106"
      ]
     },
     "execution_count": 26,
     "metadata": {},
     "output_type": "execute_result"
    }
   ],
   "source": [
    "# Ajusto el indice de mi dtaframe\n",
    "table4_1 = table4_1.set_index('room_type')\n",
    "table4_1"
   ]
  },
  {
   "cell_type": "code",
   "execution_count": 27,
   "metadata": {},
   "outputs": [
    {
     "data": {
      "text/plain": [
       "Text(0, 0.5, 'Frecuencia')"
      ]
     },
     "execution_count": 27,
     "metadata": {},
     "output_type": "execute_result"
    },
    {
     "data": {
      "image/png": "[encoded data removed]",
      "text/plain": [
       "<Figure size 1000x300 with 1 Axes>"
      ]
     },
     "metadata": {},
     "output_type": "display_data"
    }
   ],
   "source": [
    "# Realizamos gráfico de barras\n",
    "table4_1.plot(kind = 'bar', width = 0.5, figsize = (10,3), color = \"blue\")\n",
    "mt.title('Herramientas de relacion con los clientes')\n",
    "mt.xlabel('Tipo de herramienta')\n",
    "mt.ylabel('Frecuencia')"
   ]
  },
  {
   "cell_type": "markdown",
   "metadata": {},
   "source": [
    "****Variable categorica 5: bathrooms_text****"
   ]
  },
  {
   "cell_type": "code",
   "execution_count": null,
   "metadata": {},
   "outputs": [],
   "source": [
    "# Obtengo un análisis univariado de una variable categórica en especifico\n",
    "table5 = freq_tbl(df_berlin['bathrooms_text'])\n",
    "table5"
   ]
  },
  {
   "cell_type": "code",
   "execution_count": null,
   "metadata": {},
   "outputs": [],
   "source": [
    "# Elimino las columnas \"percentage\" y \"cumulative_perc\" para trabajar con las frecuencias\n",
    "table5_1 = table5.drop(['percentage', 'cumulative_perc'], axis = 1)\n",
    "table5_1"
   ]
  },
  {
   "cell_type": "code",
   "execution_count": null,
   "metadata": {},
   "outputs": [],
   "source": [
    "# Filtramos los datos de esa variable categórica\n",
    "filtro = table5_1[table5_1['frequency'] > 1]\n",
    "filtro"
   ]
  },
  {
   "cell_type": "code",
   "execution_count": 31,
   "metadata": {},
   "outputs": [
    {
     "data": {
      "text/html": [
       "<div>\n",
       "<style scoped>\n",
       "    .dataframe tbody tr th:only-of-type {\n",
       "        vertical-align: middle;\n",
       "    }\n",
       "\n",
       "    .dataframe tbody tr th {\n",
       "        vertical-align: top;\n",
       "    }\n",
       "\n",
       "    .dataframe thead th {\n",
       "        text-align: right;\n",
       "    }\n",
       "</style>\n",
       "<table border=\"1\" class=\"dataframe\">\n",
       "  <thead>\n",
       "    <tr style=\"text-align: right;\">\n",
       "      <th></th>\n",
       "      <th>frequency</th>\n",
       "    </tr>\n",
       "    <tr>\n",
       "      <th>bathrooms_text</th>\n",
       "      <th></th>\n",
       "    </tr>\n",
       "  </thead>\n",
       "  <tbody>\n",
       "    <tr>\n",
       "      <th>1 bath</th>\n",
       "      <td>7002</td>\n",
       "    </tr>\n",
       "    <tr>\n",
       "      <th>1 shared bath</th>\n",
       "      <td>1888</td>\n",
       "    </tr>\n",
       "    <tr>\n",
       "      <th>2 baths</th>\n",
       "      <td>741</td>\n",
       "    </tr>\n",
       "    <tr>\n",
       "      <th>1 private bath</th>\n",
       "      <td>688</td>\n",
       "    </tr>\n",
       "    <tr>\n",
       "      <th>1.5 baths</th>\n",
       "      <td>586</td>\n",
       "    </tr>\n",
       "    <tr>\n",
       "      <th>1.5 shared baths</th>\n",
       "      <td>221</td>\n",
       "    </tr>\n",
       "    <tr>\n",
       "      <th>2 shared baths</th>\n",
       "      <td>119</td>\n",
       "    </tr>\n",
       "    <tr>\n",
       "      <th>2.5 baths</th>\n",
       "      <td>93</td>\n",
       "    </tr>\n",
       "    <tr>\n",
       "      <th>3 baths</th>\n",
       "      <td>42</td>\n",
       "    </tr>\n",
       "    <tr>\n",
       "      <th>0 baths</th>\n",
       "      <td>29</td>\n",
       "    </tr>\n",
       "    <tr>\n",
       "      <th>Half-bath</th>\n",
       "      <td>27</td>\n",
       "    </tr>\n",
       "    <tr>\n",
       "      <th>0 shared baths</th>\n",
       "      <td>25</td>\n",
       "    </tr>\n",
       "    <tr>\n",
       "      <th>2.5 shared baths</th>\n",
       "      <td>12</td>\n",
       "    </tr>\n",
       "    <tr>\n",
       "      <th>3.5 baths</th>\n",
       "      <td>9</td>\n",
       "    </tr>\n",
       "    <tr>\n",
       "      <th>3 shared baths</th>\n",
       "      <td>9</td>\n",
       "    </tr>\n",
       "    <tr>\n",
       "      <th>Shared half-bath</th>\n",
       "      <td>8</td>\n",
       "    </tr>\n",
       "    <tr>\n",
       "      <th>4 baths</th>\n",
       "      <td>8</td>\n",
       "    </tr>\n",
       "    <tr>\n",
       "      <th>6 baths</th>\n",
       "      <td>4</td>\n",
       "    </tr>\n",
       "    <tr>\n",
       "      <th>Private half-bath</th>\n",
       "      <td>3</td>\n",
       "    </tr>\n",
       "    <tr>\n",
       "      <th>8.5 shared baths</th>\n",
       "      <td>3</td>\n",
       "    </tr>\n",
       "    <tr>\n",
       "      <th>5 shared baths</th>\n",
       "      <td>3</td>\n",
       "    </tr>\n",
       "    <tr>\n",
       "      <th>4.5 baths</th>\n",
       "      <td>2</td>\n",
       "    </tr>\n",
       "    <tr>\n",
       "      <th>4 shared baths</th>\n",
       "      <td>2</td>\n",
       "    </tr>\n",
       "  </tbody>\n",
       "</table>\n",
       "</div>"
      ],
      "text/plain": [
       "                   frequency\n",
       "bathrooms_text              \n",
       "1 bath                  7002\n",
       "1 shared bath           1888\n",
       "2 baths                  741\n",
       "1 private bath           688\n",
       "1.5 baths                586\n",
       "1.5 shared baths         221\n",
       "2 shared baths           119\n",
       "2.5 baths                 93\n",
       "3 baths                   42\n",
       "0 baths                   29\n",
       "Half-bath                 27\n",
       "0 shared baths            25\n",
       "2.5 shared baths          12\n",
       "3.5 baths                  9\n",
       "3 shared baths             9\n",
       "Shared half-bath           8\n",
       "4 baths                    8\n",
       "6 baths                    4\n",
       "Private half-bath          3\n",
       "8.5 shared baths           3\n",
       "5 shared baths             3\n",
       "4.5 baths                  2\n",
       "4 shared baths             2"
      ]
     },
     "execution_count": 31,
     "metadata": {},
     "output_type": "execute_result"
    }
   ],
   "source": [
    "# Ajusto el indice de mi dtaframe\n",
    "filtro_index = filtro.set_index('bathrooms_text')\n",
    "filtro_index"
   ]
  },
  {
   "cell_type": "code",
   "execution_count": 33,
   "metadata": {},
   "outputs": [
    {
     "data": {
      "text/plain": [
       "<Axes: xlabel='frequency', ylabel='cumulative_perc'>"
      ]
     },
     "execution_count": 33,
     "metadata": {},
     "output_type": "execute_result"
    },
    {
     "data": {
      "image/png": "[encoded data removed]",
      "text/plain": [
       "<Figure size 640x480 with 1 Axes>"
      ]
     },
     "metadata": {},
     "output_type": "display_data"
    }
   ],
   "source": [
    "# Gráfico de dispersión del dataframe filtrado\n",
    "table5.plot(\"frequency\", \"cumulative_perc\", kind = \"scatter\")"
   ]
  },
  {
   "cell_type": "markdown",
   "metadata": {},
   "source": [
    "**Variable categórica 6: license**"
   ]
  },
  {
   "cell_type": "code",
   "execution_count": null,
   "metadata": {},
   "outputs": [],
   "source": [
    "# Obtengo un análisis univariado de una variable categórica en especifico\n",
    "table6 = freq_tbl(df_berlin['license'])\n",
    "table6"
   ]
  },
  {
   "cell_type": "code",
   "execution_count": null,
   "metadata": {},
   "outputs": [],
   "source": [
    "# Elimino las columnas \"percentage\" y \"cumulative_perc\" para trabajar con las frecuencias\n",
    "table6_1 = table6.drop(['percentage', 'cumulative_perc'], axis = 1)\n",
    "table6_1"
   ]
  },
  {
   "cell_type": "code",
   "execution_count": null,
   "metadata": {},
   "outputs": [],
   "source": [
    "# Filtramos los datos de esa variable categórica\n",
    "filtro = table6_1[table6_1['frequency'] > 1]\n",
    "filtro"
   ]
  },
  {
   "cell_type": "code",
   "execution_count": null,
   "metadata": {},
   "outputs": [],
   "source": [
    "# Ajusto el indice de mi dtaframe\n",
    "filtro_index = filtro.set_index('license')\n",
    "filtro_index"
   ]
  },
  {
   "cell_type": "code",
   "execution_count": 40,
   "metadata": {},
   "outputs": [
    {
     "data": {
      "text/plain": [
       "<Axes: xlabel='frequency', ylabel='cumulative_perc'>"
      ]
     },
     "execution_count": 40,
     "metadata": {},
     "output_type": "execute_result"
    },
    {
     "data": {
      "image/png": "[encoded data removed]",
      "text/plain": [
       "<Figure size 1000x500 with 2 Axes>"
      ]
     },
     "metadata": {},
     "output_type": "display_data"
    }
   ],
   "source": [
    "# Gráfico hexagonal del dataframe filtrado, alternativo al scatter plot\n",
    "table6.plot.hexbin(\"frequency\", \"cumulative_perc\", figsize = (10,5))"
   ]
  },
  {
   "cell_type": "markdown",
   "metadata": {},
   "source": [
    "**Variable categorica 7: last_review**"
   ]
  },
  {
   "cell_type": "code",
   "execution_count": null,
   "metadata": {},
   "outputs": [],
   "source": [
    "# Obtengo un análisis univariado de una variable categórica en especifico\n",
    "table7 = freq_tbl(df_berlin['last_review'])\n",
    "table7"
   ]
  },
  {
   "cell_type": "code",
   "execution_count": null,
   "metadata": {},
   "outputs": [],
   "source": [
    "# Elimino las columnas \"percentage\" y \"cumulative_perc\" para trabajar con las frecuencias\n",
    "table7_1 = table7.drop(['percentage', 'cumulative_perc'], axis = 1)\n",
    "table7_1"
   ]
  },
  {
   "cell_type": "code",
   "execution_count": null,
   "metadata": {},
   "outputs": [],
   "source": [
    "# Filtramos los datos de esa variable categórica\n",
    "filtro = table7_1[table7_1['frequency'] > 1]\n",
    "filtro"
   ]
  },
  {
   "cell_type": "code",
   "execution_count": null,
   "metadata": {},
   "outputs": [],
   "source": [
    "# Ajusto el indice de mi dtaframe\n",
    "filtro_index = filtro.set_index('last_review')\n",
    "filtro_index"
   ]
  },
  {
   "cell_type": "code",
   "execution_count": 48,
   "metadata": {},
   "outputs": [
    {
     "data": {
      "text/plain": [
       "<Axes: xlabel='frequency', ylabel='cumulative_perc'>"
      ]
     },
     "execution_count": 48,
     "metadata": {},
     "output_type": "execute_result"
    },
    {
     "data": {
      "image/png": "[encoded data removed]",
      "text/plain": [
       "<Figure size 640x480 with 1 Axes>"
      ]
     },
     "metadata": {},
     "output_type": "display_data"
    }
   ],
   "source": [
    "# Gráfico de dispersión del dataframe filtrado\n",
    "table7.plot(\"frequency\", \"cumulative_perc\", kind = \"scatter\")"
   ]
  },
  {
   "cell_type": "markdown",
   "metadata": {},
   "source": [
    "**Variable categórica 8: amenities**"
   ]
  },
  {
   "cell_type": "code",
   "execution_count": null,
   "metadata": {},
   "outputs": [],
   "source": [
    "# Obtengo un análisis univariado de una variable categórica en especifico\n",
    "table8 = freq_tbl(df_berlin['amenities'])\n",
    "table8"
   ]
  },
  {
   "cell_type": "code",
   "execution_count": null,
   "metadata": {},
   "outputs": [],
   "source": [
    "# Elimino las columnas \"percentage\" y \"cumulative_perc\" para trabajar con las frecuencias\n",
    "table8_1 = table8.drop(['percentage', 'cumulative_perc'], axis = 1)\n",
    "table8_1"
   ]
  },
  {
   "cell_type": "code",
   "execution_count": null,
   "metadata": {},
   "outputs": [],
   "source": [
    "# Filtramos los datos de esa variable categórica\n",
    "filtro = table8_1[table8_1['frequency'] > 1]\n",
    "filtro"
   ]
  },
  {
   "cell_type": "code",
   "execution_count": null,
   "metadata": {},
   "outputs": [],
   "source": [
    "# Ajusto el indice de mi dtaframe\n",
    "filtro_index = filtro.set_index('amenities')\n",
    "filtro_index"
   ]
  },
  {
   "cell_type": "code",
   "execution_count": 55,
   "metadata": {},
   "outputs": [
    {
     "data": {
      "text/plain": [
       "<Axes: xlabel='frequency', ylabel='cumulative_perc'>"
      ]
     },
     "execution_count": 55,
     "metadata": {},
     "output_type": "execute_result"
    },
    {
     "data": {
      "image/png": "[encoded data removed]",
      "text/plain": [
       "<Figure size 1000x500 with 2 Axes>"
      ]
     },
     "metadata": {},
     "output_type": "display_data"
    }
   ],
   "source": [
    "# Gráfico hexagonal del dataframe filtrado, alternativo al scatter plot\n",
    "table8.plot.hexbin(\"frequency\", \"cumulative_perc\", figsize = (10,5))"
   ]
  },
  {
   "cell_type": "markdown",
   "metadata": {},
   "source": [
    "**Variable categórica 9: property_type**"
   ]
  },
  {
   "cell_type": "code",
   "execution_count": null,
   "metadata": {},
   "outputs": [],
   "source": [
    "# Obtengo un análisis univariado de una variable categórica en especifico\n",
    "table9 = freq_tbl(df_berlin['property_type'])\n",
    "table9"
   ]
  },
  {
   "cell_type": "code",
   "execution_count": null,
   "metadata": {},
   "outputs": [],
   "source": [
    "# Elimino las columnas \"percentage\" y \"cumulative_perc\" para trabajar con las frecuencias\n",
    "table9_1 = table9.drop(['percentage', 'cumulative_perc'], axis = 1)\n",
    "table9_1"
   ]
  },
  {
   "cell_type": "code",
   "execution_count": null,
   "metadata": {},
   "outputs": [],
   "source": [
    "# Filtramos los datos de esa variable categórica\n",
    "filtro = table9_1[table9_1['frequency'] > 1]\n",
    "filtro"
   ]
  },
  {
   "cell_type": "code",
   "execution_count": null,
   "metadata": {},
   "outputs": [],
   "source": [
    "# Ajusto el indice de mi dtaframe\n",
    "filtro_index = filtro.set_index('property_type')\n",
    "filtro_index"
   ]
  },
  {
   "cell_type": "code",
   "execution_count": 16,
   "metadata": {},
   "outputs": [
    {
     "data": {
      "text/plain": [
       "<Axes: xlabel='neighbourhood'>"
      ]
     },
     "execution_count": 16,
     "metadata": {},
     "output_type": "execute_result"
    },
    {
     "data": {
      "image/png": "[encoded data removed]",
      "text/plain": [
       "<Figure size 1000x400 with 1 Axes>"
      ]
     },
     "metadata": {},
     "output_type": "display_data"
    }
   ],
   "source": [
    "# Gráfico de tipo área del dataframe filtrado\n",
    "filtro_index.plot(kind = \"area\", figsize=(10,4), alpha = .4)"
   ]
  },
  {
   "cell_type": "markdown",
   "metadata": {},
   "source": [
    "**Variable categórica 10: neighbourhood**"
   ]
  },
  {
   "cell_type": "code",
   "execution_count": null,
   "metadata": {},
   "outputs": [],
   "source": [
    "# Obtengo un análisis univariado de una variable categórica en especifico\n",
    "table10 = freq_tbl(df_berlin['neighbourhood'])\n",
    "table10"
   ]
  },
  {
   "cell_type": "code",
   "execution_count": null,
   "metadata": {},
   "outputs": [],
   "source": [
    "# Elimino las columnas \"percentage\" y \"cumulative_perc\" para trabajar con las frecuencias\n",
    "table10_1 = table10.drop(['percentage', 'cumulative_perc'], axis = 1)\n",
    "table10_1"
   ]
  },
  {
   "cell_type": "code",
   "execution_count": null,
   "metadata": {},
   "outputs": [],
   "source": [
    "# Filtramos los datos de esa variable categórica\n",
    "filtro = table10_1[table10_1['frequency'] > 1]\n",
    "filtro"
   ]
  },
  {
   "cell_type": "code",
   "execution_count": 10,
   "metadata": {},
   "outputs": [
    {
     "data": {
      "text/html": [
       "<div>\n",
       "<style scoped>\n",
       "    .dataframe tbody tr th:only-of-type {\n",
       "        vertical-align: middle;\n",
       "    }\n",
       "\n",
       "    .dataframe tbody tr th {\n",
       "        vertical-align: top;\n",
       "    }\n",
       "\n",
       "    .dataframe thead th {\n",
       "        text-align: right;\n",
       "    }\n",
       "</style>\n",
       "<table border=\"1\" class=\"dataframe\">\n",
       "  <thead>\n",
       "    <tr style=\"text-align: right;\">\n",
       "      <th></th>\n",
       "      <th>frequency</th>\n",
       "    </tr>\n",
       "    <tr>\n",
       "      <th>neighbourhood</th>\n",
       "      <th></th>\n",
       "    </tr>\n",
       "  </thead>\n",
       "  <tbody>\n",
       "    <tr>\n",
       "      <th>Berlin, Germany</th>\n",
       "      <td>11464</td>\n",
       "    </tr>\n",
       "    <tr>\n",
       "      <th>Berlin - Mitte, Germany</th>\n",
       "      <td>12</td>\n",
       "    </tr>\n",
       "    <tr>\n",
       "      <th>Berlin, Prenzlauer Berg, Germany</th>\n",
       "      <td>5</td>\n",
       "    </tr>\n",
       "    <tr>\n",
       "      <th>Alt Treptow, Berlin, Germany</th>\n",
       "      <td>4</td>\n",
       "    </tr>\n",
       "    <tr>\n",
       "      <th>Berlin Charlottenburg, Berlin, Germany</th>\n",
       "      <td>4</td>\n",
       "    </tr>\n",
       "    <tr>\n",
       "      <th>Sch‚Äö√†√∂‚Äö√†√áneiche bei Berlin, Brandenburg, Germany</th>\n",
       "      <td>3</td>\n",
       "    </tr>\n",
       "    <tr>\n",
       "      <th>Berlin, Be, Germany</th>\n",
       "      <td>3</td>\n",
       "    </tr>\n",
       "    <tr>\n",
       "      <th>Berlin, Mitte, Germany</th>\n",
       "      <td>2</td>\n",
       "    </tr>\n",
       "    <tr>\n",
       "      <th>Berlin, DE, Germany</th>\n",
       "      <td>2</td>\n",
       "    </tr>\n",
       "    <tr>\n",
       "      <th>Berlin, BE, Germany</th>\n",
       "      <td>2</td>\n",
       "    </tr>\n",
       "    <tr>\n",
       "      <th>Berlin, Kreuzberg, Berlin, Germany</th>\n",
       "      <td>2</td>\n",
       "    </tr>\n",
       "    <tr>\n",
       "      <th>Berlin Prenzlauer Berg , Berlin, Germany</th>\n",
       "      <td>2</td>\n",
       "    </tr>\n",
       "    <tr>\n",
       "      <th>berlin, Berlin, Germany</th>\n",
       "      <td>2</td>\n",
       "    </tr>\n",
       "    <tr>\n",
       "      <th>Berlin-Bohnsdorf, Germany</th>\n",
       "      <td>2</td>\n",
       "    </tr>\n",
       "    <tr>\n",
       "      <th>Berlin, SN, Germany</th>\n",
       "      <td>2</td>\n",
       "    </tr>\n",
       "  </tbody>\n",
       "</table>\n",
       "</div>"
      ],
      "text/plain": [
       "                                                    frequency\n",
       "neighbourhood                                                \n",
       "Berlin, Germany                                         11464\n",
       "Berlin - Mitte, Germany                                    12\n",
       "Berlin, Prenzlauer Berg, Germany                            5\n",
       "Alt Treptow, Berlin, Germany                                4\n",
       "Berlin Charlottenburg, Berlin, Germany                      4\n",
       "Sch‚Äö√†√∂‚Äö√†√áneiche bei Berlin, Brandenburg...          3\n",
       "Berlin, Be, Germany                                         3\n",
       "Berlin, Mitte, Germany                                      2\n",
       "Berlin, DE, Germany                                         2\n",
       "Berlin, BE, Germany                                         2\n",
       "Berlin, Kreuzberg, Berlin, Germany                          2\n",
       "Berlin Prenzlauer Berg , Berlin, Germany                    2\n",
       "berlin, Berlin, Germany                                     2\n",
       "Berlin-Bohnsdorf, Germany                                   2\n",
       "Berlin, SN, Germany                                         2"
      ]
     },
     "execution_count": 10,
     "metadata": {},
     "output_type": "execute_result"
    }
   ],
   "source": [
    "# Ajusto el indice de mi dtaframe\n",
    "filtro_index = filtro.set_index('neighbourhood')\n",
    "filtro_index"
   ]
  },
  {
   "cell_type": "code",
   "execution_count": 14,
   "metadata": {},
   "outputs": [
    {
     "data": {
      "text/plain": [
       "<Axes: xlabel='neighbourhood'>"
      ]
     },
     "execution_count": 14,
     "metadata": {},
     "output_type": "execute_result"
    },
    {
     "data": {
      "image/png": "[encoded data removed]",
      "text/plain": [
       "<Figure size 1000x400 with 1 Axes>"
      ]
     },
     "metadata": {},
     "output_type": "display_data"
    }
   ],
   "source": [
    "# Gráfico de tipo área del dataframe filtrado\n",
    "filtro_index.plot(kind = \"area\", figsize=(10,4), alpha = .4)"
   ]
  },
  {
   "cell_type": "markdown",
   "metadata": {},
   "source": [
    "**Determinación de clases para datos no agrupados**"
   ]
  },
  {
   "cell_type": "code",
   "execution_count": 45,
   "metadata": {},
   "outputs": [
    {
     "data": {
      "text/plain": [
       "last_scraped                       0\n",
       "name                               0\n",
       "description                        0\n",
       "neighborhood_overview              0\n",
       "picture_url                        0\n",
       "host_name                          0\n",
       "host_since                         0\n",
       "host_about                         0\n",
       "host_response_time                 0\n",
       "host_is_superhost                  0\n",
       "host_verifications                 0\n",
       "host_has_profile_pic               0\n",
       "host_identity_verified             0\n",
       "neighbourhood                      0\n",
       "property_type                      0\n",
       "room_type                          0\n",
       "bathrooms_text                     0\n",
       "amenities                          0\n",
       "calendar_updated                   0\n",
       "has_availability                   0\n",
       "calendar_last_scraped              0\n",
       "last_review                        0\n",
       "license                            0\n",
       "instant_bookable                   0\n",
       "id                                 0\n",
       "host_response_rate             11527\n",
       "host_acceptance_rate               0\n",
       "host_listings_count                0\n",
       "host_total_listings_count          0\n",
       "accommodates                       0\n",
       "bathrooms                          0\n",
       "bedrooms                           0\n",
       "beds                               0\n",
       "price                              0\n",
       "minimum_nights                     0\n",
       "maximum_nights                     0\n",
       "availability_30                    0\n",
       "availability_60                    0\n",
       "availability_365                   0\n",
       "number_of_reviews                  0\n",
       "number_of_reviews_ltm              0\n",
       "number_of_reviews_l30d             0\n",
       "review_scores_rating               0\n",
       "review_scores_accuracy             0\n",
       "review_scores_cleanliness          0\n",
       "review_scores_checkin              0\n",
       "review_scores_communication        0\n",
       "review_scores_location             0\n",
       "review_scores_value                0\n",
       "reviews_per_month                  0\n",
       "dtype: int64"
      ]
     },
     "execution_count": 45,
     "metadata": {},
     "output_type": "execute_result"
    }
   ],
   "source": [
    "# Corroboramos valores nulos\n",
    "df_berlin.isnull().sum()"
   ]
  },
  {
   "cell_type": "code",
   "execution_count": 46,
   "metadata": {},
   "outputs": [
    {
     "name": "stdout",
     "output_type": "stream",
     "text": [
      "<class 'pandas.core.frame.DataFrame'>\n",
      "RangeIndex: 11527 entries, 0 to 11526\n",
      "Data columns (total 50 columns):\n",
      " #   Column                       Non-Null Count  Dtype   \n",
      "---  ------                       --------------  -----   \n",
      " 0   last_scraped                 11527 non-null  object  \n",
      " 1   name                         11527 non-null  object  \n",
      " 2   description                  11527 non-null  object  \n",
      " 3   neighborhood_overview        11527 non-null  object  \n",
      " 4   picture_url                  11527 non-null  object  \n",
      " 5   host_name                    11527 non-null  object  \n",
      " 6   host_since                   11527 non-null  object  \n",
      " 7   host_about                   11527 non-null  object  \n",
      " 8   host_response_time           11527 non-null  object  \n",
      " 9   host_is_superhost            11527 non-null  object  \n",
      " 10  host_verifications           11527 non-null  object  \n",
      " 11  host_has_profile_pic         11527 non-null  object  \n",
      " 12  host_identity_verified       11527 non-null  object  \n",
      " 13  neighbourhood                11527 non-null  object  \n",
      " 14  property_type                11527 non-null  object  \n",
      " 15  room_type                    11527 non-null  object  \n",
      " 16  bathrooms_text               11527 non-null  object  \n",
      " 17  amenities                    11527 non-null  object  \n",
      " 18  calendar_updated             11527 non-null  object  \n",
      " 19  has_availability             11527 non-null  object  \n",
      " 20  calendar_last_scraped        11527 non-null  object  \n",
      " 21  last_review                  11527 non-null  object  \n",
      " 22  license                      11527 non-null  object  \n",
      " 23  instant_bookable             11527 non-null  object  \n",
      " 24  id                           11527 non-null  float64 \n",
      " 25  host_response_rate           0 non-null      category\n",
      " 26  host_acceptance_rate         11527 non-null  float64 \n",
      " 27  host_listings_count          11527 non-null  float64 \n",
      " 28  host_total_listings_count    11527 non-null  float64 \n",
      " 29  accommodates                 11527 non-null  float64 \n",
      " 30  bathrooms                    11527 non-null  float64 \n",
      " 31  bedrooms                     11527 non-null  float64 \n",
      " 32  beds                         11527 non-null  float64 \n",
      " 33  price                        11527 non-null  float64 \n",
      " 34  minimum_nights               11527 non-null  float64 \n",
      " 35  maximum_nights               11527 non-null  float64 \n",
      " 36  availability_30              11527 non-null  float64 \n",
      " 37  availability_60              11527 non-null  int64   \n",
      " 38  availability_365             11527 non-null  int64   \n",
      " 39  number_of_reviews            11527 non-null  float64 \n",
      " 40  number_of_reviews_ltm        11527 non-null  float64 \n",
      " 41  number_of_reviews_l30d       11527 non-null  float64 \n",
      " 42  review_scores_rating         11527 non-null  float64 \n",
      " 43  review_scores_accuracy       11527 non-null  float64 \n",
      " 44  review_scores_cleanliness    11527 non-null  float64 \n",
      " 45  review_scores_checkin        11527 non-null  float64 \n",
      " 46  review_scores_communication  11527 non-null  float64 \n",
      " 47  review_scores_location       11527 non-null  float64 \n",
      " 48  review_scores_value          11527 non-null  float64 \n",
      " 49  reviews_per_month            11527 non-null  float64 \n",
      "dtypes: category(1), float64(23), int64(2), object(24)\n",
      "memory usage: 4.3+ MB\n"
     ]
    }
   ],
   "source": [
    "df_berlin.info()\n",
    "n = 11527"
   ]
  },
  {
   "cell_type": "markdown",
   "metadata": {},
   "source": [
    "**Variable host_response_rate**"
   ]
  },
  {
   "cell_type": "code",
   "execution_count": 76,
   "metadata": {},
   "outputs": [
    {
     "data": {
      "text/plain": [
       "[1, 1]"
      ]
     },
     "execution_count": 76,
     "metadata": {},
     "output_type": "execute_result"
    }
   ],
   "source": [
    "# Determinar los limites max y min 2 paso\n",
    "max = df_berlin['host_response_rate'].max()\n",
    "min = df_berlin['host_response_rate'].min()\n",
    "limites = [min,max]\n",
    "limites"
   ]
  },
  {
   "cell_type": "code",
   "execution_count": 77,
   "metadata": {},
   "outputs": [
    {
     "data": {
      "text/plain": [
       "0"
      ]
     },
     "execution_count": 77,
     "metadata": {},
     "output_type": "execute_result"
    }
   ],
   "source": [
    "# Calculamos el rango\n",
    "R = max - min\n",
    "R"
   ]
  },
  {
   "cell_type": "code",
   "execution_count": 78,
   "metadata": {},
   "outputs": [
    {
     "data": {
      "text/plain": [
       "14.484898093290857"
      ]
     },
     "execution_count": 78,
     "metadata": {},
     "output_type": "execute_result"
    }
   ],
   "source": [
    "# Calculamos el numero de intervalo o de clases ni aplicando la regla Sturges\n",
    "ni = 1 + 3.32 * np.log10(n)\n",
    "ni"
   ]
  },
  {
   "cell_type": "code",
   "execution_count": 79,
   "metadata": {},
   "outputs": [
    {
     "data": {
      "text/plain": [
       "0.0"
      ]
     },
     "execution_count": 79,
     "metadata": {},
     "output_type": "execute_result"
    }
   ],
   "source": [
    "# Calculamos el ancho de cada intervalo\n",
    "i = R/ni\n",
    "i"
   ]
  },
  {
   "cell_type": "code",
   "execution_count": 80,
   "metadata": {},
   "outputs": [
    {
     "data": {
      "text/plain": [
       "array([0.99, 1.  ])"
      ]
     },
     "execution_count": 80,
     "metadata": {},
     "output_type": "execute_result"
    }
   ],
   "source": [
    "# Categorizacion de variables\n",
    "intervalos = np.linspace(0.99,1,2)\n",
    "intervalos"
   ]
  },
  {
   "cell_type": "code",
   "execution_count": 81,
   "metadata": {},
   "outputs": [],
   "source": [
    "# Creamos las categorias\n",
    "categorias = [\"Respuesta inmediata\"]"
   ]
  },
  {
   "cell_type": "code",
   "execution_count": 82,
   "metadata": {},
   "outputs": [
    {
     "data": {
      "text/plain": [
       "0        Respuesta inmediata\n",
       "1        Respuesta inmediata\n",
       "2        Respuesta inmediata\n",
       "3        Respuesta inmediata\n",
       "4        Respuesta inmediata\n",
       "                ...         \n",
       "11522    Respuesta inmediata\n",
       "11523    Respuesta inmediata\n",
       "11524    Respuesta inmediata\n",
       "11525    Respuesta inmediata\n",
       "11526    Respuesta inmediata\n",
       "Name: host_response_rate, Length: 11527, dtype: category\n",
       "Categories (1, object): ['Respuesta inmediata']"
      ]
     },
     "execution_count": 82,
     "metadata": {},
     "output_type": "execute_result"
    }
   ],
   "source": [
    "# Finalmente creamos las categorias en la columna númerica\n",
    "df_berlin['host_response_rate'] = pd.cut(x = df_berlin['host_response_rate'], bins = intervalos, labels = categorias)\n",
    "df_berlin['host_response_rate']"
   ]
  },
  {
   "cell_type": "code",
   "execution_count": 85,
   "metadata": {},
   "outputs": [
    {
     "data": {
      "text/plain": [
       "Text(0, 0.5, 'Frecuencia')"
      ]
     },
     "execution_count": 85,
     "metadata": {},
     "output_type": "execute_result"
    },
    {
     "data": {
      "image/png": "[encoded data removed]",
      "text/plain": [
       "<Figure size 1000x400 with 1 Axes>"
      ]
     },
     "metadata": {},
     "output_type": "display_data"
    }
   ],
   "source": [
    "# Hacemos todo el procedimiento anteriromente realizado para las variables categóricas y se grafica\n",
    "table1=freq_tbl(df_berlin['host_response_rate'])\n",
    "table1=table1.drop(['percentage','cumulative_perc'], axis=1)\n",
    "filtro=table1[table1['frequency']>1]\n",
    "filtro_index=filtro.set_index('host_response_rate')\n",
    "filtro_index\n",
    "\n",
    "filtro_index.plot(kind = 'bar', width=0.8, figsize=(10,4), color=\"red\")\n",
    "mt.title('Host Response Rate')\n",
    "mt.xlabel('Host Response Rate')\n",
    "mt.ylabel('Frecuencia')"
   ]
  },
  {
   "cell_type": "markdown",
   "metadata": {},
   "source": [
    "**Variable host_acceptance_rate**"
   ]
  },
  {
   "cell_type": "code",
   "execution_count": 89,
   "metadata": {},
   "outputs": [
    {
     "name": "stdout",
     "output_type": "stream",
     "text": [
      "<class 'pandas.core.series.Series'>\n",
      "RangeIndex: 11527 entries, 0 to 11526\n",
      "Series name: host_acceptance_rate\n",
      "Non-Null Count  Dtype  \n",
      "--------------  -----  \n",
      "11527 non-null  float64\n",
      "dtypes: float64(1)\n",
      "memory usage: 90.2 KB\n"
     ]
    }
   ],
   "source": [
    "# Calculamos el numero total de la poblacion \"n\"\n",
    "df_berlin['host_acceptance_rate'].info()\n",
    "n= 11527\n"
   ]
  },
  {
   "cell_type": "code",
   "execution_count": 86,
   "metadata": {},
   "outputs": [
    {
     "data": {
      "text/plain": [
       "[0.25, 1.0]"
      ]
     },
     "execution_count": 86,
     "metadata": {},
     "output_type": "execute_result"
    }
   ],
   "source": [
    "# Determinar los limites max y min 2 paso\n",
    "max = df_berlin[\"host_acceptance_rate\"].max()\n",
    "min = df_berlin[\"host_acceptance_rate\"].min()\n",
    "limites = [min,max]\n",
    "limites"
   ]
  },
  {
   "cell_type": "code",
   "execution_count": 87,
   "metadata": {},
   "outputs": [
    {
     "data": {
      "text/plain": [
       "0.75"
      ]
     },
     "execution_count": 87,
     "metadata": {},
     "output_type": "execute_result"
    }
   ],
   "source": [
    "# Calculamos el rango R\n",
    "R = max - min\n",
    "R"
   ]
  },
  {
   "cell_type": "code",
   "execution_count": 90,
   "metadata": {},
   "outputs": [
    {
     "data": {
      "text/plain": [
       "14.484898093290857"
      ]
     },
     "execution_count": 90,
     "metadata": {},
     "output_type": "execute_result"
    }
   ],
   "source": [
    "# Calculamos el numero de intervalo o de clases ni aplicando la regla Sturges\n",
    "ni = 1 + 3.32 * np.log10(n)\n",
    "ni"
   ]
  },
  {
   "cell_type": "code",
   "execution_count": 91,
   "metadata": {},
   "outputs": [
    {
     "data": {
      "text/plain": [
       "0.05177806534568486"
      ]
     },
     "execution_count": 91,
     "metadata": {},
     "output_type": "execute_result"
    }
   ],
   "source": [
    "# Caluclamos el ancho del intervalo \"i\"\n",
    "i = R/ni\n",
    "i"
   ]
  },
  {
   "cell_type": "code",
   "execution_count": 92,
   "metadata": {},
   "outputs": [
    {
     "data": {
      "text/plain": [
       "array([0.25      , 0.31818182, 0.38636364, 0.45454545, 0.52272727,\n",
       "       0.59090909, 0.65909091, 0.72727273, 0.79545455, 0.86363636,\n",
       "       0.93181818, 1.        ])"
      ]
     },
     "execution_count": 92,
     "metadata": {},
     "output_type": "execute_result"
    }
   ],
   "source": [
    "# Categorizacion de variables\n",
    "intervalos = np.linspace(min,max,12)\n",
    "intervalos"
   ]
  },
  {
   "cell_type": "code",
   "execution_count": 93,
   "metadata": {},
   "outputs": [],
   "source": [
    "# Creamos las categorias\n",
    "categorias = [\"Prácticamente no acepta reservas\",\"Raramente disponible\", \"Difícil de reservar\", \"Pocas reservas aceptadas\", \"Disponibilidad limitada\", \"Acepta algunas reservas\", \"Buena disponibilidad\",\"La mayoría de reservas aceptadas\",\"Alta disponibilidad\",\"Disponibilidad casi total\",\"Siempre disponible para reservas\"]"
   ]
  },
  {
   "cell_type": "code",
   "execution_count": 94,
   "metadata": {},
   "outputs": [
    {
     "data": {
      "text/plain": [
       "0                     Alta disponibilidad\n",
       "1        La mayoría de reservas aceptadas\n",
       "2                 Disponibilidad limitada\n",
       "3               Disponibilidad casi total\n",
       "4               Disponibilidad casi total\n",
       "                       ...               \n",
       "11522    Siempre disponible para reservas\n",
       "11523    Siempre disponible para reservas\n",
       "11524    Siempre disponible para reservas\n",
       "11525    Siempre disponible para reservas\n",
       "11526    Siempre disponible para reservas\n",
       "Name: host_acceptance_rate, Length: 11527, dtype: category\n",
       "Categories (11, object): ['Prácticamente no acepta reservas' < 'Raramente disponible' < 'Difícil de reservar' < 'Pocas reservas aceptadas' ... 'La mayoría de reservas aceptadas' < 'Alta disponibilidad' < 'Disponibilidad casi total' < 'Siempre disponible para reservas']"
      ]
     },
     "execution_count": 94,
     "metadata": {},
     "output_type": "execute_result"
    }
   ],
   "source": [
    "# Finalmente creamos las categorias en la columna númerica\n",
    "df_berlin['host_acceptance_rate'] = pd.cut(x = df_berlin['host_acceptance_rate'], bins=intervalos, labels = categorias)\n",
    "df_berlin['host_acceptance_rate']"
   ]
  },
  {
   "cell_type": "code",
   "execution_count": 95,
   "metadata": {},
   "outputs": [
    {
     "data": {
      "text/plain": [
       "Text(0, 0.5, 'Frecuencia')"
      ]
     },
     "execution_count": 95,
     "metadata": {},
     "output_type": "execute_result"
    },
    {
     "data": {
      "image/png": "[encoded data removed]",
      "text/plain": [
       "<Figure size 1000x400 with 1 Axes>"
      ]
     },
     "metadata": {},
     "output_type": "display_data"
    }
   ],
   "source": [
    "# Hacemos todo el procedimiento anteriromente realizado para las variables categóricas y se grafica\n",
    "table2=freq_tbl(df_berlin[\"host_acceptance_rate\"])\n",
    "table2=table2.drop(['percentage','cumulative_perc'], axis=1)\n",
    "filtro=table2[table2['frequency']>1]\n",
    "filtro_index=filtro.set_index(\"host_acceptance_rate\")\n",
    "filtro_index\n",
    "\n",
    "filtro_index.plot(kind = 'bar', width=0.8, figsize=(10,4), color=\"red\")\n",
    "mt.title('Host Acceptance Rate')\n",
    "mt.xlabel('Host Acceptance Rate')\n",
    "mt.ylabel('Frecuencia')"
   ]
  }
 ],
 "metadata": {
  "kernelspec": {
   "display_name": "Python 3",
   "language": "python",
   "name": "python3"
  },
  "language_info": {
   "codemirror_mode": {
    "name": "ipython",
    "version": 3
   },
   "file_extension": ".py",
   "mimetype": "text/x-python",
   "name": "python",
   "nbconvert_exporter": "python",
   "pygments_lexer": "ipython3",
   "version": "3.11.4"
  }
 },
 "nbformat": 4,
 "nbformat_minor": 2
}
